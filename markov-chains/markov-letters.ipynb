{
 "cells": [
  {
   "cell_type": "code",
   "execution_count": 1,
   "metadata": {
    "collapsed": true,
    "jupyter": {
     "outputs_hidden": true
    }
   },
   "outputs": [],
   "source": [
    "import re\n",
    "import string\n",
    "import collections\n",
    "import unicodedata\n",
    "import random"
   ]
  },
  {
   "cell_type": "code",
   "execution_count": 2,
   "metadata": {
    "collapsed": true,
    "jupyter": {
     "outputs_hidden": true
    }
   },
   "outputs": [],
   "source": [
    "rinden_words_text = \"\"\"Kotun\n",
    " Tachor\n",
    " Ilwen\n",
    " Ennan\n",
    "Tulor\n",
    " Palil\n",
    " Palarn\n",
    " Firon\n",
    "Kagarn\n",
    " Eran\n",
    " Lamil\n",
    " Ilan\n",
    "Chakoch\n",
    " Yaril\n",
    " Farmol\n",
    " Ardon\n",
    "Krolan\n",
    " Lamon\n",
    " Indan\n",
    " Firil\n",
    "\"\"\"\n",
    "\n",
    "jahga_words_text = \"\"\"Tsumun\n",
    " Lansu\n",
    " Jakura\n",
    " Shunaja\n",
    "Dankin\n",
    " Aru-ki\n",
    " Areni\n",
    " Takari\n",
    "Ki-me\n",
    " Esse-to\n",
    " Bedare\n",
    " Shuyare\n",
    "Romosu\n",
    " Taiende\n",
    " Sadiru\n",
    " Natan-jo\n",
    "Sa-joru\n",
    " Sojaru\n",
    " Na-joka\n",
    " Heniru\"\"\"\n"
   ]
  },
  {
   "cell_type": "code",
   "execution_count": 3,
   "metadata": {
    "collapsed": true,
    "jupyter": {
     "outputs_hidden": true
    }
   },
   "outputs": [],
   "source": [
    "cat = ''.join"
   ]
  },
  {
   "cell_type": "code",
   "execution_count": 4,
   "metadata": {
    "collapsed": false,
    "jupyter": {
     "outputs_hidden": false
    }
   },
   "outputs": [
    {
     "data": {
      "text/plain": [
       "['kotun',\n",
       " 'tachor',\n",
       " 'ilwen',\n",
       " 'ennan',\n",
       " 'tulor',\n",
       " 'palil',\n",
       " 'palarn',\n",
       " 'firon',\n",
       " 'kagarn',\n",
       " 'eran',\n",
       " 'lamil',\n",
       " 'ilan',\n",
       " 'chakoch',\n",
       " 'yaril',\n",
       " 'farmol',\n",
       " 'ardon',\n",
       " 'krolan',\n",
       " 'lamon',\n",
       " 'indan',\n",
       " 'firil']"
      ]
     },
     "execution_count": 4,
     "metadata": {},
     "output_type": "execute_result"
    }
   ],
   "source": [
    "rinden_words = rinden_words_text.lower().split()\n",
    "rinden_words"
   ]
  },
  {
   "cell_type": "code",
   "execution_count": 5,
   "metadata": {
    "collapsed": false,
    "jupyter": {
     "outputs_hidden": false
    }
   },
   "outputs": [
    {
     "data": {
      "text/plain": [
       "Counter({'a': 17,\n",
       "         'c': 3,\n",
       "         'd': 2,\n",
       "         'e': 3,\n",
       "         'f': 3,\n",
       "         'g': 1,\n",
       "         'h': 3,\n",
       "         'i': 9,\n",
       "         'k': 4,\n",
       "         'l': 13,\n",
       "         'm': 3,\n",
       "         'n': 15,\n",
       "         'o': 9,\n",
       "         'p': 2,\n",
       "         'r': 11,\n",
       "         't': 3,\n",
       "         'u': 2,\n",
       "         'w': 1,\n",
       "         'y': 1})"
      ]
     },
     "execution_count": 5,
     "metadata": {},
     "output_type": "execute_result"
    }
   ],
   "source": [
    "collections.Counter(l for l in rinden_words_text.lower() if l in string.ascii_letters)"
   ]
  },
  {
   "cell_type": "code",
   "execution_count": 6,
   "metadata": {
    "collapsed": false,
    "jupyter": {
     "outputs_hidden": false
    }
   },
   "outputs": [],
   "source": [
    "def find_counts_of_item(item, counts, tuple_size):\n",
    "    for i in range(len(item)-(tuple_size)):\n",
    "        counts[tuple(item[i:i+tuple_size])].update([item[i+tuple_size]])\n",
    "    counts[tuple(item[-tuple_size:])].update([None])\n",
    "    return counts"
   ]
  },
  {
   "cell_type": "code",
   "execution_count": 7,
   "metadata": {
    "collapsed": false,
    "jupyter": {
     "outputs_hidden": false
    }
   },
   "outputs": [],
   "source": [
    "def find_counts(items, tuple_size=2):\n",
    "    counts = collections.defaultdict(collections.Counter)\n",
    "    starts = collections.Counter()\n",
    "    for item in items:\n",
    "        counts = find_counts_of_item(item, counts, tuple_size)\n",
    "        starts[tuple(item[:tuple_size])] += 1\n",
    "    return starts, counts"
   ]
  },
  {
   "cell_type": "code",
   "execution_count": 8,
   "metadata": {
    "collapsed": false,
    "jupyter": {
     "outputs_hidden": false
    },
    "scrolled": true
   },
   "outputs": [
    {
     "data": {
      "text/plain": [
       "(Counter({('a', 'r'): 1,\n",
       "          ('c', 'h'): 1,\n",
       "          ('e', 'n'): 1,\n",
       "          ('e', 'r'): 1,\n",
       "          ('f', 'a'): 1,\n",
       "          ('f', 'i'): 2,\n",
       "          ('i', 'l'): 2,\n",
       "          ('i', 'n'): 1,\n",
       "          ('k', 'a'): 1,\n",
       "          ('k', 'o'): 1,\n",
       "          ('k', 'r'): 1,\n",
       "          ('l', 'a'): 2,\n",
       "          ('p', 'a'): 2,\n",
       "          ('t', 'a'): 1,\n",
       "          ('t', 'u'): 1,\n",
       "          ('y', 'a'): 1}),\n",
       " defaultdict(collections.Counter,\n",
       "             {('a', 'c'): Counter({'h': 1}),\n",
       "              ('a', 'g'): Counter({'a': 1}),\n",
       "              ('a', 'k'): Counter({'o': 1}),\n",
       "              ('a', 'l'): Counter({'a': 1, 'i': 1}),\n",
       "              ('a', 'm'): Counter({'i': 1, 'o': 1}),\n",
       "              ('a', 'n'): Counter({None: 5}),\n",
       "              ('a', 'r'): Counter({'d': 1, 'i': 1, 'm': 1, 'n': 2}),\n",
       "              ('c', 'h'): Counter({None: 1, 'a': 1, 'o': 1}),\n",
       "              ('d', 'a'): Counter({'n': 1}),\n",
       "              ('d', 'o'): Counter({'n': 1}),\n",
       "              ('e', 'n'): Counter({None: 1, 'n': 1}),\n",
       "              ('e', 'r'): Counter({'a': 1}),\n",
       "              ('f', 'a'): Counter({'r': 1}),\n",
       "              ('f', 'i'): Counter({'r': 2}),\n",
       "              ('g', 'a'): Counter({'r': 1}),\n",
       "              ('h', 'a'): Counter({'k': 1}),\n",
       "              ('h', 'o'): Counter({'r': 1}),\n",
       "              ('i', 'l'): Counter({'w': 1, None: 4, 'a': 1}),\n",
       "              ('i', 'n'): Counter({'d': 1}),\n",
       "              ('i', 'r'): Counter({'i': 1, 'o': 1}),\n",
       "              ('k', 'a'): Counter({'g': 1}),\n",
       "              ('k', 'o'): Counter({'c': 1, 't': 1}),\n",
       "              ('k', 'r'): Counter({'o': 1}),\n",
       "              ('l', 'a'): Counter({'m': 2, 'n': 2, 'r': 1}),\n",
       "              ('l', 'i'): Counter({'l': 1}),\n",
       "              ('l', 'o'): Counter({'r': 1}),\n",
       "              ('l', 'w'): Counter({'e': 1}),\n",
       "              ('m', 'i'): Counter({'l': 1}),\n",
       "              ('m', 'o'): Counter({'l': 1, 'n': 1}),\n",
       "              ('n', 'a'): Counter({'n': 1}),\n",
       "              ('n', 'd'): Counter({'a': 1}),\n",
       "              ('n', 'n'): Counter({'a': 1}),\n",
       "              ('o', 'c'): Counter({'h': 1}),\n",
       "              ('o', 'l'): Counter({None: 1, 'a': 1}),\n",
       "              ('o', 'n'): Counter({None: 3}),\n",
       "              ('o', 'r'): Counter({None: 2}),\n",
       "              ('o', 't'): Counter({'u': 1}),\n",
       "              ('p', 'a'): Counter({'l': 2}),\n",
       "              ('r', 'a'): Counter({'n': 1}),\n",
       "              ('r', 'd'): Counter({'o': 1}),\n",
       "              ('r', 'i'): Counter({'l': 2}),\n",
       "              ('r', 'm'): Counter({'o': 1}),\n",
       "              ('r', 'n'): Counter({None: 2}),\n",
       "              ('r', 'o'): Counter({'l': 1, 'n': 1}),\n",
       "              ('t', 'a'): Counter({'c': 1}),\n",
       "              ('t', 'u'): Counter({'l': 1, 'n': 1}),\n",
       "              ('u', 'l'): Counter({'o': 1}),\n",
       "              ('u', 'n'): Counter({None: 1}),\n",
       "              ('w', 'e'): Counter({'n': 1}),\n",
       "              ('y', 'a'): Counter({'r': 1})}))"
      ]
     },
     "execution_count": 8,
     "metadata": {},
     "output_type": "execute_result"
    }
   ],
   "source": [
    "rinden_starts, rinden_counts = find_counts(rinden_words)\n",
    "rinden_starts, rinden_counts"
   ]
  },
  {
   "cell_type": "code",
   "execution_count": 9,
   "metadata": {
    "collapsed": false,
    "jupyter": {
     "outputs_hidden": false
    },
    "scrolled": true
   },
   "outputs": [
    {
     "data": {
      "text/plain": [
       "(Counter({('a',): 1,\n",
       "          ('c',): 1,\n",
       "          ('e',): 2,\n",
       "          ('f',): 3,\n",
       "          ('i',): 3,\n",
       "          ('k',): 3,\n",
       "          ('l',): 2,\n",
       "          ('p',): 2,\n",
       "          ('t',): 2,\n",
       "          ('y',): 1}),\n",
       " defaultdict(collections.Counter,\n",
       "             {('a',): Counter({'c': 1,\n",
       "                       'g': 1,\n",
       "                       'k': 1,\n",
       "                       'l': 2,\n",
       "                       'm': 2,\n",
       "                       'n': 5,\n",
       "                       'r': 5}),\n",
       "              ('c',): Counter({'h': 3}),\n",
       "              ('d',): Counter({'a': 1, 'o': 1}),\n",
       "              ('e',): Counter({'n': 2, 'r': 1}),\n",
       "              ('f',): Counter({'a': 1, 'i': 2}),\n",
       "              ('g',): Counter({'a': 1}),\n",
       "              ('h',): Counter({None: 1, 'a': 1, 'o': 1}),\n",
       "              ('i',): Counter({'l': 6, 'n': 1, 'r': 2}),\n",
       "              ('k',): Counter({'a': 1, 'o': 2, 'r': 1}),\n",
       "              ('l',): Counter({'w': 1, None: 5, 'o': 1, 'a': 5, 'i': 1}),\n",
       "              ('m',): Counter({'i': 1, 'o': 2}),\n",
       "              ('n',): Counter({'d': 1, 'n': 1, None: 12, 'a': 1}),\n",
       "              ('o',): Counter({'c': 1, 'l': 2, 'n': 3, 'r': 2, 't': 1}),\n",
       "              ('p',): Counter({'a': 2}),\n",
       "              ('r',): Counter({'d': 1,\n",
       "                       'i': 2,\n",
       "                       'n': 2,\n",
       "                       None: 2,\n",
       "                       'o': 2,\n",
       "                       'm': 1,\n",
       "                       'a': 1}),\n",
       "              ('t',): Counter({'a': 1, 'u': 2}),\n",
       "              ('u',): Counter({'l': 1, 'n': 1}),\n",
       "              ('w',): Counter({'e': 1}),\n",
       "              ('y',): Counter({'a': 1})}))"
      ]
     },
     "execution_count": 9,
     "metadata": {},
     "output_type": "execute_result"
    }
   ],
   "source": [
    "rinden_starts1, rinden_counts1 = find_counts(rinden_words, 1)\n",
    "rinden_starts1, rinden_counts1"
   ]
  },
  {
   "cell_type": "code",
   "execution_count": 10,
   "metadata": {
    "collapsed": false,
    "jupyter": {
     "outputs_hidden": false
    },
    "scrolled": true
   },
   "outputs": [
    {
     "data": {
      "text/plain": [
       "(Counter({('a', 'r'): 2,\n",
       "          ('b', 'e'): 1,\n",
       "          ('d', 'a'): 1,\n",
       "          ('e', 's'): 1,\n",
       "          ('h', 'e'): 1,\n",
       "          ('j', 'a'): 1,\n",
       "          ('k', 'i'): 1,\n",
       "          ('l', 'a'): 1,\n",
       "          ('n', 'a'): 2,\n",
       "          ('r', 'o'): 1,\n",
       "          ('s', 'a'): 2,\n",
       "          ('s', 'h'): 2,\n",
       "          ('s', 'o'): 1,\n",
       "          ('t', 'a'): 2,\n",
       "          ('t', 's'): 1}),\n",
       " defaultdict(collections.Counter,\n",
       "             {('-', 'j'): Counter({'o': 3}),\n",
       "              ('-', 'k'): Counter({'i': 1}),\n",
       "              ('-', 'm'): Counter({'e': 1}),\n",
       "              ('-', 't'): Counter({'o': 1}),\n",
       "              ('a', '-'): Counter({'j': 2}),\n",
       "              ('a', 'd'): Counter({'i': 1}),\n",
       "              ('a', 'i'): Counter({'e': 1}),\n",
       "              ('a', 'j'): Counter({'a': 1}),\n",
       "              ('a', 'k'): Counter({'a': 1, 'u': 1}),\n",
       "              ('a', 'n'): Counter({'-': 1, 'k': 1, 's': 1}),\n",
       "              ('a', 'r'): Counter({'e': 3, 'i': 1, 'u': 2}),\n",
       "              ('a', 't'): Counter({'a': 1}),\n",
       "              ('b', 'e'): Counter({'d': 1}),\n",
       "              ('d', 'a'): Counter({'n': 1, 'r': 1}),\n",
       "              ('d', 'e'): Counter({None: 1}),\n",
       "              ('d', 'i'): Counter({'r': 1}),\n",
       "              ('e', '-'): Counter({'t': 1}),\n",
       "              ('e', 'd'): Counter({'a': 1}),\n",
       "              ('e', 'n'): Counter({'d': 1, 'i': 2}),\n",
       "              ('e', 's'): Counter({'s': 1}),\n",
       "              ('h', 'e'): Counter({'n': 1}),\n",
       "              ('h', 'u'): Counter({'n': 1, 'y': 1}),\n",
       "              ('i', '-'): Counter({'m': 1}),\n",
       "              ('i', 'e'): Counter({'n': 1}),\n",
       "              ('i', 'n'): Counter({None: 1}),\n",
       "              ('i', 'r'): Counter({'u': 2}),\n",
       "              ('j', 'a'): Counter({None: 1, 'r': 1, 'k': 1}),\n",
       "              ('j', 'o'): Counter({None: 1, 'r': 1, 'k': 1}),\n",
       "              ('k', 'a'): Counter({None: 1, 'r': 1}),\n",
       "              ('k', 'i'): Counter({None: 1, '-': 1, 'n': 1}),\n",
       "              ('k', 'u'): Counter({'r': 1}),\n",
       "              ('l', 'a'): Counter({'n': 1}),\n",
       "              ('m', 'e'): Counter({None: 1}),\n",
       "              ('m', 'o'): Counter({'s': 1}),\n",
       "              ('m', 'u'): Counter({'n': 1}),\n",
       "              ('n', '-'): Counter({'j': 1}),\n",
       "              ('n', 'a'): Counter({'-': 1, 'j': 1, 't': 1}),\n",
       "              ('n', 'd'): Counter({'e': 1}),\n",
       "              ('n', 'i'): Counter({None: 1, 'r': 1}),\n",
       "              ('n', 'k'): Counter({'i': 1}),\n",
       "              ('n', 's'): Counter({'u': 1}),\n",
       "              ('o', 'j'): Counter({'a': 1}),\n",
       "              ('o', 'k'): Counter({'a': 1}),\n",
       "              ('o', 'm'): Counter({'o': 1}),\n",
       "              ('o', 'r'): Counter({'u': 1}),\n",
       "              ('o', 's'): Counter({'u': 1}),\n",
       "              ('r', 'a'): Counter({None: 1}),\n",
       "              ('r', 'e'): Counter({None: 2, 'n': 1}),\n",
       "              ('r', 'i'): Counter({None: 1}),\n",
       "              ('r', 'o'): Counter({'m': 1}),\n",
       "              ('r', 'u'): Counter({None: 4, '-': 1}),\n",
       "              ('s', 'a'): Counter({'-': 1, 'd': 1}),\n",
       "              ('s', 'e'): Counter({'-': 1}),\n",
       "              ('s', 'h'): Counter({'u': 2}),\n",
       "              ('s', 'o'): Counter({'j': 1}),\n",
       "              ('s', 's'): Counter({'e': 1}),\n",
       "              ('s', 'u'): Counter({None: 2, 'm': 1}),\n",
       "              ('t', 'a'): Counter({'i': 1, 'k': 1, 'n': 1}),\n",
       "              ('t', 'o'): Counter({None: 1}),\n",
       "              ('t', 's'): Counter({'u': 1}),\n",
       "              ('u', '-'): Counter({'k': 1}),\n",
       "              ('u', 'm'): Counter({'u': 1}),\n",
       "              ('u', 'n'): Counter({None: 1, 'a': 1}),\n",
       "              ('u', 'r'): Counter({'a': 1}),\n",
       "              ('u', 'y'): Counter({'a': 1}),\n",
       "              ('y', 'a'): Counter({'r': 1})}))"
      ]
     },
     "execution_count": 10,
     "metadata": {},
     "output_type": "execute_result"
    }
   ],
   "source": [
    "jahga_words = jahga_words_text.lower().split()\n",
    "jahga_starts, jahga_counts = find_counts(jahga_words)\n",
    "jahga_starts, jahga_counts"
   ]
  },
  {
   "cell_type": "code",
   "execution_count": 11,
   "metadata": {
    "collapsed": true,
    "jupyter": {
     "outputs_hidden": true
    }
   },
   "outputs": [],
   "source": [
    "def markov_item(starts, counts, max_len=None):\n",
    "    valid_found = False\n",
    "    while not valid_found:\n",
    "        i = 0\n",
    "        current = random.choice(list(starts.elements()))\n",
    "        chain = list(current)\n",
    "        next_item = random.choice(list(counts[current].elements()))\n",
    "        while next_item and ((max_len and i < max_len) or not max_len):\n",
    "            chain += [next_item]\n",
    "            current = current[1:] + (next_item, )\n",
    "            i += 1\n",
    "            next_item = random.choice(list(counts[current].elements()))\n",
    "            # print(chain, ':', current, ':', list(counts[current].elements()), ':', next_item)\n",
    "        if max_len and i < max_len:\n",
    "            valid_found = True\n",
    "        if not max_len:\n",
    "            valid_found = True\n",
    "    return chain"
   ]
  },
  {
   "cell_type": "code",
   "execution_count": 12,
   "metadata": {
    "collapsed": false,
    "jupyter": {
     "outputs_hidden": false
    }
   },
   "outputs": [
    {
     "data": {
      "text/plain": [
       "'ilwennan'"
      ]
     },
     "execution_count": 12,
     "metadata": {},
     "output_type": "execute_result"
    }
   ],
   "source": [
    "cat(markov_item(rinden_starts, rinden_counts, 50))"
   ]
  },
  {
   "cell_type": "code",
   "execution_count": 13,
   "metadata": {
    "collapsed": false,
    "jupyter": {
     "outputs_hidden": false
    }
   },
   "outputs": [
    {
     "data": {
      "text/plain": [
       "'pamotun'"
      ]
     },
     "execution_count": 13,
     "metadata": {},
     "output_type": "execute_result"
    }
   ],
   "source": [
    "cat(markov_item(rinden_starts1, rinden_counts1, 50))"
   ]
  },
  {
   "cell_type": "code",
   "execution_count": 14,
   "metadata": {
    "collapsed": false,
    "jupyter": {
     "outputs_hidden": false
    }
   },
   "outputs": [
    {
     "data": {
      "text/plain": [
       "'natansu ki-me daru aru tankin sadiru arende ki tsu taiende daru soja esse-to arende aru esse-to tsu are daru ari sa-joka sa-jo kin heni takura tsumun dari heniru tsumun ari are ki-me kin hende romosu tanki ki areniru heni ki-me shun arende taka aru heni lan-jo takura na-joru sa-joru aru'"
      ]
     },
     "execution_count": 14,
     "metadata": {},
     "output_type": "execute_result"
    }
   ],
   "source": [
    "\" \".join(cat(markov_item(jahga_starts, jahga_counts, 6)) for _ in range(50))"
   ]
  },
  {
   "cell_type": "code",
   "execution_count": 15,
   "metadata": {
    "collapsed": false,
    "jupyter": {
     "outputs_hidden": false
    }
   },
   "outputs": [
    {
     "data": {
      "text/plain": [
       "'sojaru kin bedaru taieniru sojakarende bedanki-me tsu dansu shuna-joru soja takura bedari jakaru heni sadiru dareni ja esse-to najakare esse-to esse-to lansu natanki-me esse-to aru lansu naja takare taiende areniru sojakare taieni romosu najarende tansu jakare sojaru lansu aru heni esse-to soja nataiende najakura taka lan-jokare ari ja nataiende dan-joru-ki'"
      ]
     },
     "execution_count": 15,
     "metadata": {},
     "output_type": "execute_result"
    }
   ],
   "source": [
    "\" \".join(cat(markov_item(jahga_starts, jahga_counts, 12)) for _ in range(50))"
   ]
  },
  {
   "cell_type": "code",
   "execution_count": 16,
   "metadata": {
    "collapsed": false,
    "jupyter": {
     "outputs_hidden": false
    }
   },
   "outputs": [
    {
     "data": {
      "text/plain": [
       "'hende ja shun romosu sadiru-ki-me shuyare tan-joka tsumunaja ari bedansu are takura tan-jokareniru-kin aru nataieni sa-joka tsu na-joru romosumun areniru takura shunajakura soja heniru ja sadiru-kin shunajareniru romosu nataka areni esse-to are dansu tankin sadiru takura takura are na-joka ari dare jare heni sojaka esse-to dan-jo tsumun esse-to ja hende'"
      ]
     },
     "execution_count": 16,
     "metadata": {},
     "output_type": "execute_result"
    }
   ],
   "source": [
    "\" \".join(cat(markov_item(jahga_starts, jahga_counts)) for _ in range(50))"
   ]
  },
  {
   "cell_type": "code",
   "execution_count": 17,
   "metadata": {
    "collapsed": false,
    "jupyter": {
     "outputs_hidden": false
    },
    "scrolled": true
   },
   "outputs": [
    {
     "data": {
      "text/plain": [
       "['chor',\n",
       " 'firilwen',\n",
       " 'il',\n",
       " 'tachor',\n",
       " 'kochor',\n",
       " 'palan',\n",
       " 'chor',\n",
       " 'kochor',\n",
       " 'chakochakoch',\n",
       " 'indan',\n",
       " 'yaril',\n",
       " 'ardon',\n",
       " 'ennan',\n",
       " 'ardon',\n",
       " 'lan',\n",
       " 'kotun',\n",
       " 'tun',\n",
       " 'indan',\n",
       " 'ardon',\n",
       " 'kagardon',\n",
       " 'palan',\n",
       " 'tulor',\n",
       " 'yarn',\n",
       " 'firolarmol',\n",
       " 'tun',\n",
       " 'faril',\n",
       " 'aril',\n",
       " 'armolan',\n",
       " 'palan',\n",
       " 'tulor',\n",
       " 'il',\n",
       " 'ch',\n",
       " 'tach',\n",
       " 'palil',\n",
       " 'kagarn',\n",
       " 'il',\n",
       " 'il',\n",
       " 'palil',\n",
       " 'kagarn',\n",
       " 'ennan',\n",
       " 'ch',\n",
       " 'il',\n",
       " 'firol',\n",
       " 'farmol',\n",
       " 'kotulor',\n",
       " 'lan',\n",
       " 'tach',\n",
       " 'kotun',\n",
       " 'kron',\n",
       " 'indan']"
      ]
     },
     "execution_count": 17,
     "metadata": {},
     "output_type": "execute_result"
    }
   ],
   "source": [
    "[cat(markov_item(rinden_starts, rinden_counts, 50)) for _ in range(50)]"
   ]
  },
  {
   "cell_type": "code",
   "execution_count": 18,
   "metadata": {
    "collapsed": false,
    "jupyter": {
     "outputs_hidden": false
    }
   },
   "outputs": [
    {
     "data": {
      "text/html": [
       "<p>palil kochor tachakochor kagardon ardon kagardon chor eran lan kochor palan palan lan tun larmon tun firon kochor indan firilan il indan tun kotulor eran ch eran palil firil lan tun firil kochakoch kotun ennan firil eran kagarn palan aril il lan kagarn indan il ilamil firil farn ardon farn arn kotun armolan firol indan firil kotulor il tach ch yardon lan koch kotun indan armol fardon indan tachor fardon ennan yardon lamon tach firilan palardon kotulor firilamon chor palil kagarmol tulor kagarn il arn kagarmon firil palamil il il il farn ilan eran eran arn palil palil kron il</p>"
      ],
      "text/plain": [
       "<IPython.core.display.HTML object>"
      ]
     },
     "metadata": {},
     "output_type": "display_data"
    }
   ],
   "source": [
    "from IPython.core.display import display, HTML\n",
    "display(HTML('<p>' + \n",
    "             \" \".join(cat(markov_item(rinden_starts, rinden_counts, 15)) for _ in range(100)) + \n",
    "             '</p>'))"
   ]
  },
  {
   "cell_type": "code",
   "execution_count": 19,
   "metadata": {
    "collapsed": false,
    "jupyter": {
     "outputs_hidden": false
    }
   },
   "outputs": [
    {
     "data": {
      "text/html": [
       "<p>najakura lan-joru najakaru sadiru-ki-me tsumunaja tsu ki-me jakura takura shuyare shuna-jo areni shun lansu esse-to sadiru bedare dan-jo ja ari romosu heniru tsu sadiru heniru bedanki-me sa-jo aru-kin takura natan-joru-kin sadiru ari hende sadiru-ki-me tanki ja tsu jaru shuyare aru bedankin tsumunatan-joru romosumun na-joka romosu ja hende bedansu shuyaru sa-jo ki tsumun sa-jo ki heni sojaru jaru-kin takura lanki-me sojari nataka sa-joka areni are heni naja soja sadiru romosu hende sojaka taiende shun ki-me tsu heni aru shunatan-jokaru ari romosu sadiru darende na-joru shuyaru bedari esse-to aru shuyaru-ki tansu esse-to na-jokari esse-to are kin aru heni dan-joru sojakura nataiende natan-jo</p>"
      ],
      "text/plain": [
       "<IPython.core.display.HTML object>"
      ]
     },
     "metadata": {},
     "output_type": "display_data"
    }
   ],
   "source": [
    "from IPython.core.display import display, HTML\n",
    "display(HTML('<p>' + \n",
    "             \" \".join(cat(markov_item(jahga_starts, jahga_counts, 15)) for _ in range(100)) + \n",
    "             '</p>'))"
   ]
  },
  {
   "cell_type": "code",
   "execution_count": 20,
   "metadata": {
    "collapsed": false,
    "jupyter": {
     "outputs_hidden": false
    }
   },
   "outputs": [
    {
     "data": {
      "text/html": [
       "<p>tun lon paroch tan in enn ilwenar fin irdandor il ern fil tulann famil tul farilotunndolan endan lamon filanagardon chor pamol in l karnn lar kol chon par fililamoch fil ch lilalil far pan lilakaril ilakordolwernn fan kan ilwerdotularol enn erororilaror paril tul ilamon filarn tul pandan ilon l tulan an korirol kranachar kan er il pachol pann famolon chamor pal fil en ilagann kolwern kamil tulan konnan il kor fin amoramil irnn er arilon ilwerormilarn tardach fililwer pakotun ern paril kon krn tular far ilardan l al il yachoril fach kamotarmochan kolanndon korn fil par tunalirdal anndon pamililwen l</p>"
      ],
      "text/plain": [
       "<IPython.core.display.HTML object>"
      ]
     },
     "metadata": {},
     "output_type": "display_data"
    }
   ],
   "source": [
    "from IPython.core.display import display, HTML\n",
    "display(HTML('<p>' + \n",
    "             \" \".join(cat(markov_item(rinden_starts1, rinden_counts1, 15)) for _ in range(100)) + \n",
    "             '</p>'))"
   ]
  },
  {
   "cell_type": "code",
   "execution_count": 21,
   "metadata": {
    "collapsed": false,
    "jupyter": {
     "outputs_hidden": false
    },
    "scrolled": true
   },
   "outputs": [
    {
     "data": {
      "text/plain": [
       "(defaultdict(collections.Counter,\n",
       "             {('a', 'c'): Counter({'h': 1}),\n",
       "              ('a', 'g'): Counter({'a': 1}),\n",
       "              ('a', 'k'): Counter({'o': 1}),\n",
       "              ('a', 'l'): Counter({'a': 1, 'i': 1}),\n",
       "              ('a', 'm'): Counter({'i': 1, 'o': 1}),\n",
       "              ('a', 'n'): Counter({None: 5}),\n",
       "              ('a', 'r'): Counter({'d': 1, 'i': 1, 'm': 1, 'n': 2}),\n",
       "              ('c', 'h'): Counter({None: 1, 'a': 1, 'o': 1}),\n",
       "              ('d', 'a'): Counter({'n': 1}),\n",
       "              ('d', 'o'): Counter({'n': 1}),\n",
       "              ('e', 'n'): Counter({None: 1, 'n': 1}),\n",
       "              ('e', 'r'): Counter({'a': 1}),\n",
       "              ('f', 'a'): Counter({'r': 1}),\n",
       "              ('f', 'i'): Counter({'r': 2}),\n",
       "              ('g', 'a'): Counter({'r': 1}),\n",
       "              ('h', 'a'): Counter({'k': 1}),\n",
       "              ('h', 'o'): Counter({'r': 1}),\n",
       "              ('i', 'l'): Counter({'w': 1, None: 4, 'a': 1}),\n",
       "              ('i', 'n'): Counter({'d': 1}),\n",
       "              ('i', 'r'): Counter({'i': 1, 'o': 1}),\n",
       "              ('k', 'a'): Counter({'g': 1}),\n",
       "              ('k', 'o'): Counter({'c': 1, 't': 1}),\n",
       "              ('k', 'r'): Counter({'o': 1}),\n",
       "              ('l', 'a'): Counter({'m': 2, 'n': 2, 'r': 1}),\n",
       "              ('l', 'i'): Counter({'l': 1}),\n",
       "              ('l', 'o'): Counter({'r': 1}),\n",
       "              ('l', 'w'): Counter({'e': 1}),\n",
       "              ('m', 'i'): Counter({'l': 1}),\n",
       "              ('m', 'o'): Counter({'l': 1, 'n': 1}),\n",
       "              ('n', 'a'): Counter({'n': 1}),\n",
       "              ('n', 'd'): Counter({'a': 1}),\n",
       "              ('n', 'n'): Counter({'a': 1}),\n",
       "              ('o', 'c'): Counter({'h': 1}),\n",
       "              ('o', 'l'): Counter({None: 1, 'a': 1}),\n",
       "              ('o', 'n'): Counter({None: 3}),\n",
       "              ('o', 'r'): Counter({None: 2}),\n",
       "              ('o', 't'): Counter({'u': 1}),\n",
       "              ('p', 'a'): Counter({'l': 2}),\n",
       "              ('r', 'a'): Counter({'n': 1}),\n",
       "              ('r', 'd'): Counter({'o': 1}),\n",
       "              ('r', 'i'): Counter({'l': 2}),\n",
       "              ('r', 'm'): Counter({'o': 1}),\n",
       "              ('r', 'n'): Counter({None: 2}),\n",
       "              ('r', 'o'): Counter({'l': 1, 'n': 1}),\n",
       "              ('t', 'a'): Counter({'c': 1}),\n",
       "              ('t', 'u'): Counter({'l': 1, 'n': 1}),\n",
       "              ('u', 'l'): Counter({'o': 1}),\n",
       "              ('u', 'n'): Counter({None: 1}),\n",
       "              ('w', 'e'): Counter({'n': 1}),\n",
       "              ('y', 'a'): Counter({'r': 1})}),\n",
       " defaultdict(collections.Counter,\n",
       "             {('a',): Counter({'c': 1,\n",
       "                       'g': 1,\n",
       "                       'k': 1,\n",
       "                       'l': 2,\n",
       "                       'm': 2,\n",
       "                       'n': 5,\n",
       "                       'r': 5}),\n",
       "              ('c',): Counter({'h': 3}),\n",
       "              ('d',): Counter({'a': 1, 'o': 1}),\n",
       "              ('e',): Counter({'n': 2, 'r': 1}),\n",
       "              ('f',): Counter({'a': 1, 'i': 2}),\n",
       "              ('g',): Counter({'a': 1}),\n",
       "              ('h',): Counter({None: 1, 'a': 1, 'o': 1}),\n",
       "              ('i',): Counter({'l': 6, 'n': 1, 'r': 2}),\n",
       "              ('k',): Counter({'a': 1, 'o': 2, 'r': 1}),\n",
       "              ('l',): Counter({'w': 1, None: 5, 'o': 1, 'a': 5, 'i': 1}),\n",
       "              ('m',): Counter({'i': 1, 'o': 2}),\n",
       "              ('n',): Counter({'d': 1, 'n': 1, None: 12, 'a': 1}),\n",
       "              ('o',): Counter({'c': 1, 'l': 2, 'n': 3, 'r': 2, 't': 1}),\n",
       "              ('p',): Counter({'a': 2}),\n",
       "              ('r',): Counter({'d': 1,\n",
       "                       'i': 2,\n",
       "                       'n': 2,\n",
       "                       None: 2,\n",
       "                       'o': 2,\n",
       "                       'm': 1,\n",
       "                       'a': 1}),\n",
       "              ('t',): Counter({'a': 1, 'u': 2}),\n",
       "              ('u',): Counter({'l': 1, 'n': 1}),\n",
       "              ('w',): Counter({'e': 1}),\n",
       "              ('y',): Counter({'a': 1})}))"
      ]
     },
     "execution_count": 21,
     "metadata": {},
     "output_type": "execute_result"
    }
   ],
   "source": [
    "rinden_counts, rinden_counts1"
   ]
  },
  {
   "cell_type": "code",
   "execution_count": 26,
   "metadata": {
    "collapsed": true,
    "jupyter": {
     "outputs_hidden": true
    }
   },
   "outputs": [],
   "source": [
    "def scale_merge(left_starts, left_start_scale, left_counts, left_count_scale, \n",
    "                right_starts, right_start_scale, right_counts, right_count_scale):\n",
    "    starts = collections.Counter()\n",
    "    counts = collections.defaultdict(collections.Counter)\n",
    "    \n",
    "    for k, n in left_starts.items():\n",
    "        starts[k] = n * left_start_scale\n",
    "    for k, n in right_starts.items():\n",
    "        starts[k] += n * right_start_scale\n",
    "    \n",
    "    for k in left_counts:\n",
    "        for j in left_counts[k]:\n",
    "            counts[k][j] = left_counts[k][j] * left_count_scale\n",
    "            \n",
    "    for k in right_counts:\n",
    "        for j in right_counts[k]:\n",
    "            counts[k][j] = right_counts[k][j] * right_count_scale\n",
    "\n",
    "    return starts, counts"
   ]
  },
  {
   "cell_type": "code",
   "execution_count": 23,
   "metadata": {
    "collapsed": false,
    "jupyter": {
     "outputs_hidden": false
    }
   },
   "outputs": [
    {
     "data": {
      "text/plain": [
       "(20, 85)"
      ]
     },
     "execution_count": 23,
     "metadata": {},
     "output_type": "execute_result"
    }
   ],
   "source": [
    "sum(rinden_starts.values()), sum(sum(c.values()) for c in rinden_counts.values())"
   ]
  },
  {
   "cell_type": "code",
   "execution_count": 24,
   "metadata": {
    "collapsed": false,
    "jupyter": {
     "outputs_hidden": false
    }
   },
   "outputs": [
    {
     "data": {
      "text/plain": [
       "(20, 105)"
      ]
     },
     "execution_count": 24,
     "metadata": {},
     "output_type": "execute_result"
    }
   ],
   "source": [
    "sum(jahga_starts.values()), sum(sum(c.values()) for c in jahga_counts.values())"
   ]
  },
  {
   "cell_type": "code",
   "execution_count": 28,
   "metadata": {
    "collapsed": false,
    "jupyter": {
     "outputs_hidden": false
    }
   },
   "outputs": [],
   "source": [
    "rj_starts, rj_counts = scale_merge(rinden_starts, 5, rinden_counts, 5, jahga_starts, 1, jahga_counts, 1)"
   ]
  },
  {
   "cell_type": "code",
   "execution_count": 29,
   "metadata": {
    "collapsed": false,
    "jupyter": {
     "outputs_hidden": false
    }
   },
   "outputs": [
    {
     "data": {
      "text/html": [
       "<p>sadiru kochor lamolamil jarmol tachakotunan farmon lan are kagaru-ki farn yarn tachoru era ennan aril ilaril ennansu tun are firilweniril kagarn jarn firilwen armosumunan koch tulor palarmosu era krol palilamilamol kotulor firon tachakotun kochoru larn arn tun tulor tunajakotunan ennan endarilwennan en arn tach bedan endardon bedan indarn palamolamon ilamil aru palilwen tun tulor eniril lamosu eran firil sadirilwendan sadiron armon na-joru arn ennan farmol eran dan palil eran in ch in ilamon palamon ilamilare firilweni arn palilwenirol faru ilamon chor tulor palamon inde aru lamon aru tsumun palamil ennan eran kotun shunajakotulor tulor in tach tunan indarn tulor ilamon</p>"
      ],
      "text/plain": [
       "<IPython.core.display.HTML object>"
      ]
     },
     "metadata": {},
     "output_type": "display_data"
    }
   ],
   "source": [
    "from IPython.core.display import display, HTML\n",
    "display(HTML('<p>' + \n",
    "             \" \".join(cat(markov_item(rj_starts, rj_counts, 15)) for _ in range(100)) + \n",
    "             '</p>'))"
   ]
  },
  {
   "cell_type": "code",
   "execution_count": null,
   "metadata": {
    "collapsed": true,
    "jupyter": {
     "outputs_hidden": true
    }
   },
   "outputs": [],
   "source": []
  }
 ],
 "metadata": {
  "kernelspec": {
   "display_name": "Python 3 (ipykernel)",
   "language": "python",
   "name": "python3"
  },
  "language_info": {
   "codemirror_mode": {
    "name": "ipython",
    "version": 3
   },
   "file_extension": ".py",
   "mimetype": "text/x-python",
   "name": "python",
   "nbconvert_exporter": "python",
   "pygments_lexer": "ipython3",
   "version": "3.10.13"
  }
 },
 "nbformat": 4,
 "nbformat_minor": 4
}
