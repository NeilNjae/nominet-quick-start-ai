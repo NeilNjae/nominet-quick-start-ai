{
 "cells": [
  {
   "cell_type": "code",
   "execution_count": 87,
   "metadata": {
    "collapsed": true,
    "jupyter": {
     "outputs_hidden": true
    }
   },
   "outputs": [],
   "source": [
    "import re\n",
    "import string\n",
    "import collections\n",
    "import unicodedata\n",
    "import random\n",
    "from IPython.core.display import display, HTML"
   ]
  },
  {
   "cell_type": "code",
   "execution_count": 2,
   "metadata": {
    "collapsed": true,
    "jupyter": {
     "outputs_hidden": true
    }
   },
   "outputs": [],
   "source": [
    "sample_text = \"\"\"Continuing this process, we obtain better and better approximations to the square root.\n",
    "Now let's formalize the process in terms of procedures. We start with a value for the radicand (the\n",
    "number whose square root we are trying to compute) and a value for the guess. If the guess is good\n",
    "enough for our purposes, we are done; if not, we must repeat the process with an improved guess. We\n",
    "write this basic strategy as a procedure:\n",
    "(define (sqrt-iter guess x)\n",
    "(if (good-enough? guess x)\n",
    "guess\n",
    "(sqrt-iter (improve guess x)\n",
    "x)))\n",
    "A guess is improved by averaging it with the quotient of the radicand and the old guess:\n",
    "(define (improve guess x)\n",
    "(average guess (/ x guess)))\n",
    "where\n",
    "\n",
    "\f",
    "(define (average x y)\n",
    "(/ (+ x y) 2))\n",
    "We also have to say what we mean by ''good enough.'' The following will do for illustration, but it is\n",
    "not really a very good test. (See exercise 1.7.) The idea is to improve the answer until it is close\n",
    "enough so that its square differs from the radicand by less than a predetermined tolerance (here\n",
    "0.001): 22\n",
    "(define (good-enough? guess x)\n",
    "(< (abs (- (square guess) x)) 0.001))\n",
    "Finally, we need a way to get started. For instance, we can always guess that the square root of any\n",
    "number is 1: 23\n",
    "(define (sqrt x)\n",
    "(sqrt-iter 1.0 x))\n",
    "If we type these definitions to the interpreter, we can use sqrt just as we can use any procedure:\"\"\"\n",
    "\n",
    "small_text = '''A guess is improved by averaging it with the quotient of the radicand and the old guess:\n",
    "(define (improve guess x)\n",
    "((average guess (/ x guess)))'''\n",
    "\n",
    "sentence_boundary = 'in terms of procedures. We start with 0.123 and some'\n",
    "\n",
    "double_quotes = \"let's see how such a ''circular'' definition\""
   ]
  },
  {
   "cell_type": "code",
   "execution_count": 78,
   "metadata": {
    "collapsed": true,
    "jupyter": {
     "outputs_hidden": true
    }
   },
   "outputs": [],
   "source": [
    "cat = ''.join"
   ]
  },
  {
   "cell_type": "code",
   "execution_count": 3,
   "metadata": {
    "collapsed": false,
    "jupyter": {
     "outputs_hidden": false
    }
   },
   "outputs": [
    {
     "data": {
      "text/plain": [
       "'!\"#$%&\\'()*+,-./:;<=>?@[\\\\]^_`{|}~'"
      ]
     },
     "execution_count": 3,
     "metadata": {},
     "output_type": "execute_result"
    }
   ],
   "source": [
    "string.punctuation"
   ]
  },
  {
   "cell_type": "code",
   "execution_count": 4,
   "metadata": {
    "collapsed": false,
    "jupyter": {
     "outputs_hidden": false
    }
   },
   "outputs": [
    {
     "data": {
      "text/plain": [
       "'abcdefghijklmnopqrstuvwxyzABCDEFGHIJKLMNOPQRSTUVWXYZ0123456789!\"#$%&\\'()*+,-./:;<=>?@[\\\\]^_`{|}~'"
      ]
     },
     "execution_count": 4,
     "metadata": {},
     "output_type": "execute_result"
    }
   ],
   "source": [
    "string.ascii_letters + string.digits + string.punctuation"
   ]
  },
  {
   "cell_type": "code",
   "execution_count": 5,
   "metadata": {
    "collapsed": false,
    "jupyter": {
     "outputs_hidden": false
    }
   },
   "outputs": [
    {
     "data": {
      "text/plain": [
       "re.compile(r'[^abcdefghijklmnopqrstuvwxyzABCDEFGHIJKLMNOPQRSTUVWXYZ0123456789\\!\\\"\\#\\$\\%\\&\\\\'\\(\\)\\*\\+\\,\\-\\.\\/\\:\\;\\<\\=\\>\\?\\@\\[\\\\\\]\\^_\\`\\{\\|\\}\\~]+',\n",
       "re.UNICODE)"
      ]
     },
     "execution_count": 5,
     "metadata": {},
     "output_type": "execute_result"
    }
   ],
   "source": [
    "token_pattern = re.compile(r'[^{}]+'.format(re.escape(string.ascii_letters + string.digits + string.punctuation)))\n",
    "token_pattern"
   ]
  },
  {
   "cell_type": "code",
   "execution_count": 6,
   "metadata": {
    "collapsed": false,
    "jupyter": {
     "outputs_hidden": false
    }
   },
   "outputs": [
    {
     "data": {
      "text/plain": [
       "re.compile(r'(\\d+\\.\\d+|\\w+\\'\\w+|[\\!\\\"\\#\\$\\%\\&\\\\'\\(\\)\\*\\+\\,\\-\\.\\/\\:\\;\\<\\=\\>\\?\\@\\[\\\\\\]\\^_\\`\\{\\|\\}\\~]+(?=\\w)|(?<=\\w)[\\!\\\"\\#\\$\\%\\&\\\\'\\(\\)\\*\\+\\,\\-\\.\\/\\:\\;\\<\\=\\>\\?\\@\\[\\\\\\]\\^_\\`\\{\\|\\}\\~]+|[\\!\\\"\\#\\$\\%\\&\\\\'\\(\\)\\*\\+\\,\\-\\.\\/\\:\\;\\<\\=\\>\\?\\@\\[\\\\\\]\\^_\\`\\{\\|\\}\\~]+$)',\n",
       "re.UNICODE)"
      ]
     },
     "execution_count": 6,
     "metadata": {},
     "output_type": "execute_result"
    }
   ],
   "source": [
    "punctuation_pattern = re.compile('(\\d+\\.\\d+|\\w+\\'\\w+|[{0}]+(?=\\w)|(?<=\\w)[{0}]+|[{0}]+$)'.format(re.escape(string.punctuation)))\n",
    "punctuation_pattern"
   ]
  },
  {
   "cell_type": "code",
   "execution_count": 7,
   "metadata": {
    "collapsed": false,
    "jupyter": {
     "outputs_hidden": false
    }
   },
   "outputs": [
    {
     "data": {
      "text/plain": [
       "['', '((', 'average']"
      ]
     },
     "execution_count": 7,
     "metadata": {},
     "output_type": "execute_result"
    }
   ],
   "source": [
    "re.split(r'(\\(+(?=\\w))', '((average')"
   ]
  },
  {
   "cell_type": "code",
   "execution_count": 8,
   "metadata": {
    "collapsed": false,
    "jupyter": {
     "outputs_hidden": false
    },
    "scrolled": true
   },
   "outputs": [
    {
     "data": {
      "text/plain": [
       "['A',\n",
       " 'guess',\n",
       " 'is',\n",
       " 'improved',\n",
       " 'by',\n",
       " 'averaging',\n",
       " 'it',\n",
       " 'with',\n",
       " 'the',\n",
       " 'quotient',\n",
       " 'of',\n",
       " 'the',\n",
       " 'radicand',\n",
       " 'and',\n",
       " 'the',\n",
       " 'old',\n",
       " 'guess',\n",
       " ':',\n",
       " '(',\n",
       " 'define',\n",
       " '(',\n",
       " 'improve',\n",
       " 'guess',\n",
       " 'x',\n",
       " ')',\n",
       " '((',\n",
       " 'average',\n",
       " 'guess',\n",
       " '(/',\n",
       " 'x',\n",
       " 'guess',\n",
       " ')))']"
      ]
     },
     "execution_count": 8,
     "metadata": {},
     "output_type": "execute_result"
    }
   ],
   "source": [
    "[ch for gp in [re.split(punctuation_pattern, t) for t in re.split(token_pattern, small_text)]\n",
    "    for ch in gp if ch]"
   ]
  },
  {
   "cell_type": "code",
   "execution_count": 9,
   "metadata": {
    "collapsed": false,
    "jupyter": {
     "outputs_hidden": false
    }
   },
   "outputs": [
    {
     "data": {
      "text/plain": [
       "['in',\n",
       " 'terms',\n",
       " 'of',\n",
       " 'procedures',\n",
       " '.',\n",
       " 'We',\n",
       " 'start',\n",
       " 'with',\n",
       " '0.123',\n",
       " 'and',\n",
       " 'some']"
      ]
     },
     "execution_count": 9,
     "metadata": {},
     "output_type": "execute_result"
    }
   ],
   "source": [
    "[ch for gp in [re.split(punctuation_pattern, t) for t in re.split(token_pattern, sentence_boundary)]\n",
    "    for ch in gp if ch]"
   ]
  },
  {
   "cell_type": "code",
   "execution_count": 10,
   "metadata": {
    "collapsed": false,
    "jupyter": {
     "outputs_hidden": false
    }
   },
   "outputs": [
    {
     "data": {
      "text/plain": [
       "[\"let's\", 'see', 'how', 'such', 'a', \"''\", 'circular', \"''\", 'definition']"
      ]
     },
     "execution_count": 10,
     "metadata": {},
     "output_type": "execute_result"
    }
   ],
   "source": [
    "[ch for gp in [re.split(punctuation_pattern, t) for t in re.split(token_pattern, double_quotes)]\n",
    "    for ch in gp if ch]"
   ]
  },
  {
   "cell_type": "code",
   "execution_count": 11,
   "metadata": {
    "collapsed": false,
    "jupyter": {
     "outputs_hidden": false
    },
    "scrolled": true
   },
   "outputs": [
    {
     "data": {
      "text/plain": [
       "['Continuing',\n",
       " 'this',\n",
       " 'process',\n",
       " ',',\n",
       " 'we',\n",
       " 'obtain',\n",
       " 'better',\n",
       " 'and',\n",
       " 'better',\n",
       " 'approximations',\n",
       " 'to',\n",
       " 'the',\n",
       " 'square',\n",
       " 'root',\n",
       " '.',\n",
       " 'Now',\n",
       " \"let's\",\n",
       " 'formalize',\n",
       " 'the',\n",
       " 'process',\n",
       " 'in',\n",
       " 'terms',\n",
       " 'of',\n",
       " 'procedures',\n",
       " '.',\n",
       " 'We',\n",
       " 'start',\n",
       " 'with',\n",
       " 'a',\n",
       " 'value',\n",
       " 'for',\n",
       " 'the',\n",
       " 'radicand',\n",
       " '(',\n",
       " 'the',\n",
       " 'number',\n",
       " 'whose',\n",
       " 'square',\n",
       " 'root',\n",
       " 'we',\n",
       " 'are',\n",
       " 'trying',\n",
       " 'to',\n",
       " 'compute',\n",
       " ')',\n",
       " 'and',\n",
       " 'a',\n",
       " 'value',\n",
       " 'for',\n",
       " 'the',\n",
       " 'guess',\n",
       " '.',\n",
       " 'If',\n",
       " 'the',\n",
       " 'guess',\n",
       " 'is',\n",
       " 'good',\n",
       " 'enough',\n",
       " 'for',\n",
       " 'our',\n",
       " 'purposes',\n",
       " ',',\n",
       " 'we',\n",
       " 'are',\n",
       " 'done',\n",
       " ';',\n",
       " 'if',\n",
       " 'not',\n",
       " ',',\n",
       " 'we',\n",
       " 'must',\n",
       " 'repeat',\n",
       " 'the',\n",
       " 'process',\n",
       " 'with',\n",
       " 'an',\n",
       " 'improved',\n",
       " 'guess',\n",
       " '.',\n",
       " 'We',\n",
       " 'write',\n",
       " 'this',\n",
       " 'basic',\n",
       " 'strategy',\n",
       " 'as',\n",
       " 'a',\n",
       " 'procedure',\n",
       " ':',\n",
       " '(',\n",
       " 'define',\n",
       " '(',\n",
       " 'sqrt',\n",
       " '-',\n",
       " 'iter',\n",
       " 'guess',\n",
       " 'x',\n",
       " ')',\n",
       " '(',\n",
       " 'if',\n",
       " '(',\n",
       " 'good',\n",
       " '-',\n",
       " 'enough',\n",
       " '?',\n",
       " 'guess',\n",
       " 'x',\n",
       " ')',\n",
       " 'guess',\n",
       " '(',\n",
       " 'sqrt',\n",
       " '-',\n",
       " 'iter',\n",
       " '(',\n",
       " 'improve',\n",
       " 'guess',\n",
       " 'x',\n",
       " ')',\n",
       " 'x',\n",
       " ')))',\n",
       " 'A',\n",
       " 'guess',\n",
       " 'is',\n",
       " 'improved',\n",
       " 'by',\n",
       " 'averaging',\n",
       " 'it',\n",
       " 'with',\n",
       " 'the',\n",
       " 'quotient',\n",
       " 'of',\n",
       " 'the',\n",
       " 'radicand',\n",
       " 'and',\n",
       " 'the',\n",
       " 'old',\n",
       " 'guess',\n",
       " ':',\n",
       " '(',\n",
       " 'define',\n",
       " '(',\n",
       " 'improve',\n",
       " 'guess',\n",
       " 'x',\n",
       " ')',\n",
       " '(',\n",
       " 'average',\n",
       " 'guess',\n",
       " '(/',\n",
       " 'x',\n",
       " 'guess',\n",
       " ')))',\n",
       " 'where',\n",
       " '(',\n",
       " 'define',\n",
       " '(',\n",
       " 'average',\n",
       " 'x',\n",
       " 'y',\n",
       " ')',\n",
       " '(/',\n",
       " '(+',\n",
       " 'x',\n",
       " 'y',\n",
       " ')',\n",
       " '2',\n",
       " '))',\n",
       " 'We',\n",
       " 'also',\n",
       " 'have',\n",
       " 'to',\n",
       " 'say',\n",
       " 'what',\n",
       " 'we',\n",
       " 'mean',\n",
       " 'by',\n",
       " \"''\",\n",
       " 'good',\n",
       " 'enough',\n",
       " \".''\",\n",
       " 'The',\n",
       " 'following',\n",
       " 'will',\n",
       " 'do',\n",
       " 'for',\n",
       " 'illustration',\n",
       " ',',\n",
       " 'but',\n",
       " 'it',\n",
       " 'is',\n",
       " 'not',\n",
       " 'really',\n",
       " 'a',\n",
       " 'very',\n",
       " 'good',\n",
       " 'test',\n",
       " '.',\n",
       " '(',\n",
       " 'See',\n",
       " 'exercise',\n",
       " '1.7',\n",
       " '.)',\n",
       " 'The',\n",
       " 'idea',\n",
       " 'is',\n",
       " 'to',\n",
       " 'improve',\n",
       " 'the',\n",
       " 'answer',\n",
       " 'until',\n",
       " 'it',\n",
       " 'is',\n",
       " 'close',\n",
       " 'enough',\n",
       " 'so',\n",
       " 'that',\n",
       " 'its',\n",
       " 'square',\n",
       " 'differs',\n",
       " 'from',\n",
       " 'the',\n",
       " 'radicand',\n",
       " 'by',\n",
       " 'less',\n",
       " 'than',\n",
       " 'a',\n",
       " 'predetermined',\n",
       " 'tolerance',\n",
       " '(',\n",
       " 'here',\n",
       " '0.001',\n",
       " '):',\n",
       " '22',\n",
       " '(',\n",
       " 'define',\n",
       " '(',\n",
       " 'good',\n",
       " '-',\n",
       " 'enough',\n",
       " '?',\n",
       " 'guess',\n",
       " 'x',\n",
       " ')',\n",
       " '(<',\n",
       " '(',\n",
       " 'abs',\n",
       " '(-',\n",
       " '(',\n",
       " 'square',\n",
       " 'guess',\n",
       " ')',\n",
       " 'x',\n",
       " '))',\n",
       " '0.001',\n",
       " '))',\n",
       " 'Finally',\n",
       " ',',\n",
       " 'we',\n",
       " 'need',\n",
       " 'a',\n",
       " 'way',\n",
       " 'to',\n",
       " 'get',\n",
       " 'started',\n",
       " '.',\n",
       " 'For',\n",
       " 'instance',\n",
       " ',',\n",
       " 'we',\n",
       " 'can',\n",
       " 'always',\n",
       " 'guess',\n",
       " 'that',\n",
       " 'the',\n",
       " 'square',\n",
       " 'root',\n",
       " 'of',\n",
       " 'any',\n",
       " 'number',\n",
       " 'is',\n",
       " '1',\n",
       " ':',\n",
       " '23',\n",
       " '(',\n",
       " 'define',\n",
       " '(',\n",
       " 'sqrt',\n",
       " 'x',\n",
       " ')',\n",
       " '(',\n",
       " 'sqrt',\n",
       " '-',\n",
       " 'iter',\n",
       " '1.0',\n",
       " 'x',\n",
       " '))',\n",
       " 'If',\n",
       " 'we',\n",
       " 'type',\n",
       " 'these',\n",
       " 'definitions',\n",
       " 'to',\n",
       " 'the',\n",
       " 'interpreter',\n",
       " ',',\n",
       " 'we',\n",
       " 'can',\n",
       " 'use',\n",
       " 'sqrt',\n",
       " 'just',\n",
       " 'as',\n",
       " 'we',\n",
       " 'can',\n",
       " 'use',\n",
       " 'any',\n",
       " 'procedure',\n",
       " ':']"
      ]
     },
     "execution_count": 11,
     "metadata": {},
     "output_type": "execute_result"
    }
   ],
   "source": [
    "[ch for gp in [re.split(punctuation_pattern, t) for t in re.split(token_pattern, sample_text)]\n",
    "    for ch in gp if ch]"
   ]
  },
  {
   "cell_type": "code",
   "execution_count": 12,
   "metadata": {
    "collapsed": true,
    "jupyter": {
     "outputs_hidden": true
    }
   },
   "outputs": [],
   "source": [
    "def tokenise(text):\n",
    "    return [ch for gp in [re.split(punctuation_pattern, t) for t in re.split(token_pattern, text)]\n",
    "        for ch in gp if ch]"
   ]
  },
  {
   "cell_type": "code",
   "execution_count": 13,
   "metadata": {
    "collapsed": false,
    "jupyter": {
     "outputs_hidden": false
    },
    "scrolled": true
   },
   "outputs": [
    {
     "data": {
      "text/plain": [
       "['Continuing',\n",
       " 'this',\n",
       " 'process',\n",
       " ',',\n",
       " 'we',\n",
       " 'obtain',\n",
       " 'better',\n",
       " 'and',\n",
       " 'better',\n",
       " 'approximations',\n",
       " 'to',\n",
       " 'the',\n",
       " 'square',\n",
       " 'root',\n",
       " '.',\n",
       " 'Now',\n",
       " \"let's\",\n",
       " 'formalize',\n",
       " 'the',\n",
       " 'process',\n",
       " 'in',\n",
       " 'terms',\n",
       " 'of',\n",
       " 'procedures',\n",
       " '.',\n",
       " 'We',\n",
       " 'start',\n",
       " 'with',\n",
       " 'a',\n",
       " 'value',\n",
       " 'for',\n",
       " 'the',\n",
       " 'radicand',\n",
       " '(',\n",
       " 'the',\n",
       " 'number',\n",
       " 'whose',\n",
       " 'square',\n",
       " 'root',\n",
       " 'we',\n",
       " 'are',\n",
       " 'trying',\n",
       " 'to',\n",
       " 'compute',\n",
       " ')',\n",
       " 'and',\n",
       " 'a',\n",
       " 'value',\n",
       " 'for',\n",
       " 'the',\n",
       " 'guess',\n",
       " '.',\n",
       " 'If',\n",
       " 'the',\n",
       " 'guess',\n",
       " 'is',\n",
       " 'good',\n",
       " 'enough',\n",
       " 'for',\n",
       " 'our',\n",
       " 'purposes',\n",
       " ',',\n",
       " 'we',\n",
       " 'are',\n",
       " 'done',\n",
       " ';',\n",
       " 'if',\n",
       " 'not',\n",
       " ',',\n",
       " 'we',\n",
       " 'must',\n",
       " 'repeat',\n",
       " 'the',\n",
       " 'process',\n",
       " 'with',\n",
       " 'an',\n",
       " 'improved',\n",
       " 'guess',\n",
       " '.',\n",
       " 'We',\n",
       " 'write',\n",
       " 'this',\n",
       " 'basic',\n",
       " 'strategy',\n",
       " 'as',\n",
       " 'a',\n",
       " 'procedure',\n",
       " ':',\n",
       " '(',\n",
       " 'define',\n",
       " '(',\n",
       " 'sqrt',\n",
       " '-',\n",
       " 'iter',\n",
       " 'guess',\n",
       " 'x',\n",
       " ')',\n",
       " '(',\n",
       " 'if',\n",
       " '(',\n",
       " 'good',\n",
       " '-',\n",
       " 'enough',\n",
       " '?',\n",
       " 'guess',\n",
       " 'x',\n",
       " ')',\n",
       " 'guess',\n",
       " '(',\n",
       " 'sqrt',\n",
       " '-',\n",
       " 'iter',\n",
       " '(',\n",
       " 'improve',\n",
       " 'guess',\n",
       " 'x',\n",
       " ')',\n",
       " 'x',\n",
       " ')))',\n",
       " 'A',\n",
       " 'guess',\n",
       " 'is',\n",
       " 'improved',\n",
       " 'by',\n",
       " 'averaging',\n",
       " 'it',\n",
       " 'with',\n",
       " 'the',\n",
       " 'quotient',\n",
       " 'of',\n",
       " 'the',\n",
       " 'radicand',\n",
       " 'and',\n",
       " 'the',\n",
       " 'old',\n",
       " 'guess',\n",
       " ':',\n",
       " '(',\n",
       " 'define',\n",
       " '(',\n",
       " 'improve',\n",
       " 'guess',\n",
       " 'x',\n",
       " ')',\n",
       " '(',\n",
       " 'average',\n",
       " 'guess',\n",
       " '(/',\n",
       " 'x',\n",
       " 'guess',\n",
       " ')))',\n",
       " 'where',\n",
       " '(',\n",
       " 'define',\n",
       " '(',\n",
       " 'average',\n",
       " 'x',\n",
       " 'y',\n",
       " ')',\n",
       " '(/',\n",
       " '(+',\n",
       " 'x',\n",
       " 'y',\n",
       " ')',\n",
       " '2',\n",
       " '))',\n",
       " 'We',\n",
       " 'also',\n",
       " 'have',\n",
       " 'to',\n",
       " 'say',\n",
       " 'what',\n",
       " 'we',\n",
       " 'mean',\n",
       " 'by',\n",
       " \"''\",\n",
       " 'good',\n",
       " 'enough',\n",
       " \".''\",\n",
       " 'The',\n",
       " 'following',\n",
       " 'will',\n",
       " 'do',\n",
       " 'for',\n",
       " 'illustration',\n",
       " ',',\n",
       " 'but',\n",
       " 'it',\n",
       " 'is',\n",
       " 'not',\n",
       " 'really',\n",
       " 'a',\n",
       " 'very',\n",
       " 'good',\n",
       " 'test',\n",
       " '.',\n",
       " '(',\n",
       " 'See',\n",
       " 'exercise',\n",
       " '1.7',\n",
       " '.)',\n",
       " 'The',\n",
       " 'idea',\n",
       " 'is',\n",
       " 'to',\n",
       " 'improve',\n",
       " 'the',\n",
       " 'answer',\n",
       " 'until',\n",
       " 'it',\n",
       " 'is',\n",
       " 'close',\n",
       " 'enough',\n",
       " 'so',\n",
       " 'that',\n",
       " 'its',\n",
       " 'square',\n",
       " 'differs',\n",
       " 'from',\n",
       " 'the',\n",
       " 'radicand',\n",
       " 'by',\n",
       " 'less',\n",
       " 'than',\n",
       " 'a',\n",
       " 'predetermined',\n",
       " 'tolerance',\n",
       " '(',\n",
       " 'here',\n",
       " '0.001',\n",
       " '):',\n",
       " '22',\n",
       " '(',\n",
       " 'define',\n",
       " '(',\n",
       " 'good',\n",
       " '-',\n",
       " 'enough',\n",
       " '?',\n",
       " 'guess',\n",
       " 'x',\n",
       " ')',\n",
       " '(<',\n",
       " '(',\n",
       " 'abs',\n",
       " '(-',\n",
       " '(',\n",
       " 'square',\n",
       " 'guess',\n",
       " ')',\n",
       " 'x',\n",
       " '))',\n",
       " '0.001',\n",
       " '))',\n",
       " 'Finally',\n",
       " ',',\n",
       " 'we',\n",
       " 'need',\n",
       " 'a',\n",
       " 'way',\n",
       " 'to',\n",
       " 'get',\n",
       " 'started',\n",
       " '.',\n",
       " 'For',\n",
       " 'instance',\n",
       " ',',\n",
       " 'we',\n",
       " 'can',\n",
       " 'always',\n",
       " 'guess',\n",
       " 'that',\n",
       " 'the',\n",
       " 'square',\n",
       " 'root',\n",
       " 'of',\n",
       " 'any',\n",
       " 'number',\n",
       " 'is',\n",
       " '1',\n",
       " ':',\n",
       " '23',\n",
       " '(',\n",
       " 'define',\n",
       " '(',\n",
       " 'sqrt',\n",
       " 'x',\n",
       " ')',\n",
       " '(',\n",
       " 'sqrt',\n",
       " '-',\n",
       " 'iter',\n",
       " '1.0',\n",
       " 'x',\n",
       " '))',\n",
       " 'If',\n",
       " 'we',\n",
       " 'type',\n",
       " 'these',\n",
       " 'definitions',\n",
       " 'to',\n",
       " 'the',\n",
       " 'interpreter',\n",
       " ',',\n",
       " 'we',\n",
       " 'can',\n",
       " 'use',\n",
       " 'sqrt',\n",
       " 'just',\n",
       " 'as',\n",
       " 'we',\n",
       " 'can',\n",
       " 'use',\n",
       " 'any',\n",
       " 'procedure',\n",
       " ':']"
      ]
     },
     "execution_count": 13,
     "metadata": {},
     "output_type": "execute_result"
    }
   ],
   "source": [
    "tokenise(sample_text)"
   ]
  },
  {
   "cell_type": "code",
   "execution_count": 14,
   "metadata": {
    "collapsed": false,
    "jupyter": {
     "outputs_hidden": false
    },
    "scrolled": true
   },
   "outputs": [
    {
     "data": {
      "text/plain": [
       "['Exercise',\n",
       " '1.8',\n",
       " '.',\n",
       " \"Newton's\",\n",
       " 'method',\n",
       " 'for',\n",
       " 'cube',\n",
       " 'roots',\n",
       " 'is',\n",
       " 'based',\n",
       " 'on',\n",
       " 'the',\n",
       " 'fact',\n",
       " 'that',\n",
       " 'if',\n",
       " 'y',\n",
       " 'is',\n",
       " 'an',\n",
       " 'approximation',\n",
       " 'to',\n",
       " 'the',\n",
       " 'cube',\n",
       " 'root',\n",
       " 'of',\n",
       " 'x',\n",
       " ',',\n",
       " 'then',\n",
       " 'a',\n",
       " 'better',\n",
       " 'approximation',\n",
       " 'is',\n",
       " 'given',\n",
       " 'by',\n",
       " 'the',\n",
       " 'value',\n",
       " 'Use',\n",
       " 'this',\n",
       " 'formula',\n",
       " 'to',\n",
       " 'implement',\n",
       " 'a',\n",
       " 'cube',\n",
       " '-',\n",
       " 'root',\n",
       " 'procedure',\n",
       " 'analogous',\n",
       " 'to',\n",
       " 'the',\n",
       " 'square',\n",
       " '-',\n",
       " 'root',\n",
       " 'procedure',\n",
       " '.',\n",
       " '(',\n",
       " 'In',\n",
       " 'section',\n",
       " '1.3',\n",
       " '.',\n",
       " '4',\n",
       " 'we',\n",
       " 'will',\n",
       " 'see',\n",
       " 'how',\n",
       " 'to',\n",
       " 'implement',\n",
       " \"Newton's\",\n",
       " 'method',\n",
       " 'in',\n",
       " 'general',\n",
       " 'as',\n",
       " 'an',\n",
       " 'abstraction',\n",
       " 'of',\n",
       " 'these',\n",
       " 'square',\n",
       " '-',\n",
       " 'root',\n",
       " 'and',\n",
       " 'cube',\n",
       " '-',\n",
       " 'root',\n",
       " 'procedures',\n",
       " '.)',\n",
       " '1.1',\n",
       " '.',\n",
       " '8',\n",
       " 'Procedures',\n",
       " 'as',\n",
       " 'Black',\n",
       " '-',\n",
       " 'Box',\n",
       " 'Abstractions',\n",
       " 'Sqrt',\n",
       " 'is',\n",
       " 'our',\n",
       " 'first',\n",
       " 'example',\n",
       " 'of',\n",
       " 'a',\n",
       " 'process',\n",
       " 'defined',\n",
       " 'by',\n",
       " 'a',\n",
       " 'set',\n",
       " 'of',\n",
       " 'mutually',\n",
       " 'defined',\n",
       " 'procedures',\n",
       " '.',\n",
       " 'Notice',\n",
       " 'that',\n",
       " 'the',\n",
       " 'definition',\n",
       " 'of',\n",
       " 'sqrt',\n",
       " '-',\n",
       " 'iter',\n",
       " 'is',\n",
       " 'recursive',\n",
       " ';',\n",
       " 'that',\n",
       " 'is',\n",
       " ',',\n",
       " 'the',\n",
       " 'procedure',\n",
       " 'is',\n",
       " 'defined',\n",
       " 'in',\n",
       " 'terms',\n",
       " 'of',\n",
       " 'itself',\n",
       " '.',\n",
       " 'The',\n",
       " 'idea',\n",
       " 'of',\n",
       " 'being',\n",
       " 'able',\n",
       " 'to',\n",
       " 'define',\n",
       " 'a',\n",
       " 'procedure',\n",
       " 'in',\n",
       " 'terms',\n",
       " 'of',\n",
       " 'itself',\n",
       " 'may',\n",
       " 'be',\n",
       " 'disturbing',\n",
       " ';',\n",
       " 'it',\n",
       " 'may',\n",
       " 'seem',\n",
       " 'unclear',\n",
       " 'how',\n",
       " 'such',\n",
       " 'a',\n",
       " \"''\",\n",
       " 'circular',\n",
       " \"''\",\n",
       " 'definition',\n",
       " 'could',\n",
       " 'make',\n",
       " 'sense',\n",
       " 'at',\n",
       " 'all',\n",
       " ',',\n",
       " 'much',\n",
       " 'less',\n",
       " 'specify',\n",
       " 'a',\n",
       " 'well',\n",
       " '-',\n",
       " 'defined',\n",
       " 'process',\n",
       " 'to',\n",
       " 'be',\n",
       " 'carried']"
      ]
     },
     "execution_count": 14,
     "metadata": {},
     "output_type": "execute_result"
    }
   ],
   "source": [
    "tokenise(\"\"\"Exercise 1.8. Newton's method for cube roots is based on the fact that if y is an approximation to the\n",
    "cube root of x, then a better approximation is given by the value\n",
    "\n",
    "Use this formula to implement a cube-root procedure analogous to the square-root procedure. (In\n",
    "section 1.3.4 we will see how to implement Newton's method in general as an abstraction of these\n",
    "square-root and cube-root procedures.)\n",
    "\n",
    "1.1.8 Procedures as Black-Box Abstractions\n",
    "Sqrt is our first example of a process defined by a set of mutually defined procedures. Notice that the\n",
    "definition of sqrt-iter is recursive; that is, the procedure is defined in terms of itself. The idea of\n",
    "being able to define a procedure in terms of itself may be disturbing; it may seem unclear how such a\n",
    "''circular'' definition could make sense at all, much less specify a well-defined process to be carried\n",
    "\"\"\")"
   ]
  },
  {
   "cell_type": "code",
   "execution_count": 15,
   "metadata": {
    "collapsed": true,
    "jupyter": {
     "outputs_hidden": true
    }
   },
   "outputs": [],
   "source": [
    "def find_counts_of_item(item, counts, tuple_size):\n",
    "    for i in range(len(item)-(tuple_size)):\n",
    "        counts[tuple(item[i:i+tuple_size])].update([item[i+tuple_size]])\n",
    "    counts[tuple(item[-tuple_size:])].update([None])\n",
    "    return counts"
   ]
  },
  {
   "cell_type": "code",
   "execution_count": 16,
   "metadata": {
    "collapsed": true,
    "jupyter": {
     "outputs_hidden": true
    }
   },
   "outputs": [],
   "source": [
    "def find_counts(items, tuple_size=2):\n",
    "    counts = collections.defaultdict(collections.Counter)\n",
    "    starts = collections.Counter()\n",
    "    for item in items:\n",
    "        counts = find_counts_of_item(item, counts, tuple_size)\n",
    "        starts[tuple(item[:tuple_size])] += 1\n",
    "    return starts, counts"
   ]
  },
  {
   "cell_type": "code",
   "execution_count": 17,
   "metadata": {
    "collapsed": false,
    "jupyter": {
     "outputs_hidden": false
    }
   },
   "outputs": [],
   "source": [
    "def sentences(tokens):\n",
    "    sents = []\n",
    "    sent = []\n",
    "    for i in range(len(tokens)):\n",
    "        if tokens[i] == '.':\n",
    "            sents += [sent + [tokens[i]]]\n",
    "            sent = []\n",
    "        else:\n",
    "            sent += [tokens[i]]\n",
    "    return sents"
   ]
  },
  {
   "cell_type": "code",
   "execution_count": 18,
   "metadata": {
    "collapsed": false,
    "jupyter": {
     "outputs_hidden": false
    },
    "scrolled": true
   },
   "outputs": [
    {
     "data": {
      "text/plain": [
       "[['Continuing',\n",
       "  'this',\n",
       "  'process',\n",
       "  ',',\n",
       "  'we',\n",
       "  'obtain',\n",
       "  'better',\n",
       "  'and',\n",
       "  'better',\n",
       "  'approximations',\n",
       "  'to',\n",
       "  'the',\n",
       "  'square',\n",
       "  'root',\n",
       "  '.'],\n",
       " ['Now',\n",
       "  \"let's\",\n",
       "  'formalize',\n",
       "  'the',\n",
       "  'process',\n",
       "  'in',\n",
       "  'terms',\n",
       "  'of',\n",
       "  'procedures',\n",
       "  '.'],\n",
       " ['We',\n",
       "  'start',\n",
       "  'with',\n",
       "  'a',\n",
       "  'value',\n",
       "  'for',\n",
       "  'the',\n",
       "  'radicand',\n",
       "  '(',\n",
       "  'the',\n",
       "  'number',\n",
       "  'whose',\n",
       "  'square',\n",
       "  'root',\n",
       "  'we',\n",
       "  'are',\n",
       "  'trying',\n",
       "  'to',\n",
       "  'compute',\n",
       "  ')',\n",
       "  'and',\n",
       "  'a',\n",
       "  'value',\n",
       "  'for',\n",
       "  'the',\n",
       "  'guess',\n",
       "  '.'],\n",
       " ['If',\n",
       "  'the',\n",
       "  'guess',\n",
       "  'is',\n",
       "  'good',\n",
       "  'enough',\n",
       "  'for',\n",
       "  'our',\n",
       "  'purposes',\n",
       "  ',',\n",
       "  'we',\n",
       "  'are',\n",
       "  'done',\n",
       "  ';',\n",
       "  'if',\n",
       "  'not',\n",
       "  ',',\n",
       "  'we',\n",
       "  'must',\n",
       "  'repeat',\n",
       "  'the',\n",
       "  'process',\n",
       "  'with',\n",
       "  'an',\n",
       "  'improved',\n",
       "  'guess',\n",
       "  '.'],\n",
       " ['We',\n",
       "  'write',\n",
       "  'this',\n",
       "  'basic',\n",
       "  'strategy',\n",
       "  'as',\n",
       "  'a',\n",
       "  'procedure',\n",
       "  ':',\n",
       "  '(',\n",
       "  'define',\n",
       "  '(',\n",
       "  'sqrt',\n",
       "  '-',\n",
       "  'iter',\n",
       "  'guess',\n",
       "  'x',\n",
       "  ')',\n",
       "  '(',\n",
       "  'if',\n",
       "  '(',\n",
       "  'good',\n",
       "  '-',\n",
       "  'enough',\n",
       "  '?',\n",
       "  'guess',\n",
       "  'x',\n",
       "  ')',\n",
       "  'guess',\n",
       "  '(',\n",
       "  'sqrt',\n",
       "  '-',\n",
       "  'iter',\n",
       "  '(',\n",
       "  'improve',\n",
       "  'guess',\n",
       "  'x',\n",
       "  ')',\n",
       "  'x',\n",
       "  ')))',\n",
       "  'A',\n",
       "  'guess',\n",
       "  'is',\n",
       "  'improved',\n",
       "  'by',\n",
       "  'averaging',\n",
       "  'it',\n",
       "  'with',\n",
       "  'the',\n",
       "  'quotient',\n",
       "  'of',\n",
       "  'the',\n",
       "  'radicand',\n",
       "  'and',\n",
       "  'the',\n",
       "  'old',\n",
       "  'guess',\n",
       "  ':',\n",
       "  '(',\n",
       "  'define',\n",
       "  '(',\n",
       "  'improve',\n",
       "  'guess',\n",
       "  'x',\n",
       "  ')',\n",
       "  '(',\n",
       "  'average',\n",
       "  'guess',\n",
       "  '(/',\n",
       "  'x',\n",
       "  'guess',\n",
       "  ')))',\n",
       "  'where',\n",
       "  '(',\n",
       "  'define',\n",
       "  '(',\n",
       "  'average',\n",
       "  'x',\n",
       "  'y',\n",
       "  ')',\n",
       "  '(/',\n",
       "  '(+',\n",
       "  'x',\n",
       "  'y',\n",
       "  ')',\n",
       "  '2',\n",
       "  '))',\n",
       "  'We',\n",
       "  'also',\n",
       "  'have',\n",
       "  'to',\n",
       "  'say',\n",
       "  'what',\n",
       "  'we',\n",
       "  'mean',\n",
       "  'by',\n",
       "  \"''\",\n",
       "  'good',\n",
       "  'enough',\n",
       "  \".''\",\n",
       "  'The',\n",
       "  'following',\n",
       "  'will',\n",
       "  'do',\n",
       "  'for',\n",
       "  'illustration',\n",
       "  ',',\n",
       "  'but',\n",
       "  'it',\n",
       "  'is',\n",
       "  'not',\n",
       "  'really',\n",
       "  'a',\n",
       "  'very',\n",
       "  'good',\n",
       "  'test',\n",
       "  '.'],\n",
       " ['(',\n",
       "  'See',\n",
       "  'exercise',\n",
       "  '1.7',\n",
       "  '.)',\n",
       "  'The',\n",
       "  'idea',\n",
       "  'is',\n",
       "  'to',\n",
       "  'improve',\n",
       "  'the',\n",
       "  'answer',\n",
       "  'until',\n",
       "  'it',\n",
       "  'is',\n",
       "  'close',\n",
       "  'enough',\n",
       "  'so',\n",
       "  'that',\n",
       "  'its',\n",
       "  'square',\n",
       "  'differs',\n",
       "  'from',\n",
       "  'the',\n",
       "  'radicand',\n",
       "  'by',\n",
       "  'less',\n",
       "  'than',\n",
       "  'a',\n",
       "  'predetermined',\n",
       "  'tolerance',\n",
       "  '(',\n",
       "  'here',\n",
       "  '0.001',\n",
       "  '):',\n",
       "  '22',\n",
       "  '(',\n",
       "  'define',\n",
       "  '(',\n",
       "  'good',\n",
       "  '-',\n",
       "  'enough',\n",
       "  '?',\n",
       "  'guess',\n",
       "  'x',\n",
       "  ')',\n",
       "  '(<',\n",
       "  '(',\n",
       "  'abs',\n",
       "  '(-',\n",
       "  '(',\n",
       "  'square',\n",
       "  'guess',\n",
       "  ')',\n",
       "  'x',\n",
       "  '))',\n",
       "  '0.001',\n",
       "  '))',\n",
       "  'Finally',\n",
       "  ',',\n",
       "  'we',\n",
       "  'need',\n",
       "  'a',\n",
       "  'way',\n",
       "  'to',\n",
       "  'get',\n",
       "  'started',\n",
       "  '.']]"
      ]
     },
     "execution_count": 18,
     "metadata": {},
     "output_type": "execute_result"
    }
   ],
   "source": [
    "sentences(tokenise(sample_text))"
   ]
  },
  {
   "cell_type": "code",
   "execution_count": 19,
   "metadata": {
    "collapsed": false,
    "jupyter": {
     "outputs_hidden": false
    }
   },
   "outputs": [
    {
     "data": {
      "text/plain": [
       "(Counter({('Continuing', 'this'): 1}),\n",
       " defaultdict(collections.Counter,\n",
       "             {(',', 'we'): Counter({'obtain': 1}),\n",
       "              ('Continuing', 'this'): Counter({'process': 1}),\n",
       "              ('and', 'better'): Counter({'approximations': 1}),\n",
       "              ('approximations', 'to'): Counter({'the': 1}),\n",
       "              ('better', 'and'): Counter({'better': 1}),\n",
       "              ('better', 'approximations'): Counter({'to': 1}),\n",
       "              ('obtain', 'better'): Counter({'and': 1}),\n",
       "              ('process', ','): Counter({'we': 1}),\n",
       "              ('root', '.'): Counter({None: 1}),\n",
       "              ('square', 'root'): Counter({'.': 1}),\n",
       "              ('the', 'square'): Counter({'root': 1}),\n",
       "              ('this', 'process'): Counter({',': 1}),\n",
       "              ('to', 'the'): Counter({'square': 1}),\n",
       "              ('we', 'obtain'): Counter({'better': 1})}))"
      ]
     },
     "execution_count": 19,
     "metadata": {},
     "output_type": "execute_result"
    }
   ],
   "source": [
    "one_s_starts, one_s_counts = find_counts([sentences(tokenise(sample_text))[0]])\n",
    "one_s_starts, one_s_counts"
   ]
  },
  {
   "cell_type": "code",
   "execution_count": 20,
   "metadata": {
    "collapsed": false,
    "jupyter": {
     "outputs_hidden": false
    },
    "scrolled": true
   },
   "outputs": [
    {
     "data": {
      "text/plain": [
       "(Counter({('(', 'See', 'exercise'): 1,\n",
       "          ('Continuing', 'this', 'process'): 1,\n",
       "          ('If', 'the', 'guess'): 1,\n",
       "          ('Now', \"let's\", 'formalize'): 1,\n",
       "          ('We', 'start', 'with'): 1,\n",
       "          ('We', 'write', 'this'): 1}),\n",
       " defaultdict(collections.Counter,\n",
       "             {(\"''\", 'good', 'enough'): Counter({\".''\": 1}),\n",
       "              ('(', 'See', 'exercise'): Counter({'1.7': 1}),\n",
       "              ('(', 'abs', '(-'): Counter({'(': 1}),\n",
       "              ('(', 'average', 'guess'): Counter({'(/': 1}),\n",
       "              ('(', 'average', 'x'): Counter({'y': 1}),\n",
       "              ('(',\n",
       "               'define',\n",
       "               '('): Counter({'average': 1,\n",
       "                       'good': 1,\n",
       "                       'improve': 1,\n",
       "                       'sqrt': 1}),\n",
       "              ('(', 'good', '-'): Counter({'enough': 2}),\n",
       "              ('(', 'here', '0.001'): Counter({'):': 1}),\n",
       "              ('(', 'if', '('): Counter({'good': 1}),\n",
       "              ('(', 'improve', 'guess'): Counter({'x': 2}),\n",
       "              ('(', 'sqrt', '-'): Counter({'iter': 2}),\n",
       "              ('(', 'square', 'guess'): Counter({')': 1}),\n",
       "              ('(', 'the', 'number'): Counter({'whose': 1}),\n",
       "              ('(+', 'x', 'y'): Counter({')': 1}),\n",
       "              ('(-', '(', 'square'): Counter({'guess': 1}),\n",
       "              ('(/', '(+', 'x'): Counter({'y': 1}),\n",
       "              ('(/', 'x', 'guess'): Counter({')))': 1}),\n",
       "              ('(<', '(', 'abs'): Counter({'(-': 1}),\n",
       "              (')', '(', 'average'): Counter({'guess': 1}),\n",
       "              (')', '(', 'if'): Counter({'(': 1}),\n",
       "              (')', '(/', '(+'): Counter({'x': 1}),\n",
       "              (')', '(<', '('): Counter({'abs': 1}),\n",
       "              (')', '2', '))'): Counter({'We': 1}),\n",
       "              (')', 'and', 'a'): Counter({'value': 1}),\n",
       "              (')', 'guess', '('): Counter({'sqrt': 1}),\n",
       "              (')', 'x', '))'): Counter({'0.001': 1}),\n",
       "              (')', 'x', ')))'): Counter({'A': 1}),\n",
       "              ('))', '0.001', '))'): Counter({'Finally': 1}),\n",
       "              ('))', 'Finally', ','): Counter({'we': 1}),\n",
       "              ('))', 'We', 'also'): Counter({'have': 1}),\n",
       "              (')))', 'A', 'guess'): Counter({'is': 1}),\n",
       "              (')))', 'where', '('): Counter({'define': 1}),\n",
       "              ('):', '22', '('): Counter({'define': 1}),\n",
       "              (',', 'but', 'it'): Counter({'is': 1}),\n",
       "              (',', 'we', 'are'): Counter({'done': 1}),\n",
       "              (',', 'we', 'must'): Counter({'repeat': 1}),\n",
       "              (',', 'we', 'need'): Counter({'a': 1}),\n",
       "              (',', 'we', 'obtain'): Counter({'better': 1}),\n",
       "              ('-', 'enough', '?'): Counter({'guess': 2}),\n",
       "              ('-', 'iter', '('): Counter({'improve': 1}),\n",
       "              ('-', 'iter', 'guess'): Counter({'x': 1}),\n",
       "              (\".''\", 'The', 'following'): Counter({'will': 1}),\n",
       "              ('.)', 'The', 'idea'): Counter({'is': 1}),\n",
       "              ('0.001', '))', 'Finally'): Counter({',': 1}),\n",
       "              ('0.001', '):', '22'): Counter({'(': 1}),\n",
       "              ('1.7', '.)', 'The'): Counter({'idea': 1}),\n",
       "              ('2', '))', 'We'): Counter({'also': 1}),\n",
       "              ('22', '(', 'define'): Counter({'(': 1}),\n",
       "              (':', '(', 'define'): Counter({'(': 2}),\n",
       "              (';', 'if', 'not'): Counter({',': 1}),\n",
       "              ('?', 'guess', 'x'): Counter({')': 2}),\n",
       "              ('A', 'guess', 'is'): Counter({'improved': 1}),\n",
       "              ('Continuing', 'this', 'process'): Counter({',': 1}),\n",
       "              ('Finally', ',', 'we'): Counter({'need': 1}),\n",
       "              ('If', 'the', 'guess'): Counter({'is': 1}),\n",
       "              ('Now', \"let's\", 'formalize'): Counter({'the': 1}),\n",
       "              ('See', 'exercise', '1.7'): Counter({'.)': 1}),\n",
       "              ('The', 'following', 'will'): Counter({'do': 1}),\n",
       "              ('The', 'idea', 'is'): Counter({'to': 1}),\n",
       "              ('We', 'also', 'have'): Counter({'to': 1}),\n",
       "              ('We', 'start', 'with'): Counter({'a': 1}),\n",
       "              ('We', 'write', 'this'): Counter({'basic': 1}),\n",
       "              ('a', 'predetermined', 'tolerance'): Counter({'(': 1}),\n",
       "              ('a', 'procedure', ':'): Counter({'(': 1}),\n",
       "              ('a', 'value', 'for'): Counter({'the': 2}),\n",
       "              ('a', 'very', 'good'): Counter({'test': 1}),\n",
       "              ('a', 'way', 'to'): Counter({'get': 1}),\n",
       "              ('abs', '(-', '('): Counter({'square': 1}),\n",
       "              ('also', 'have', 'to'): Counter({'say': 1}),\n",
       "              ('an', 'improved', 'guess'): Counter({'.': 1}),\n",
       "              ('and', 'a', 'value'): Counter({'for': 1}),\n",
       "              ('and', 'better', 'approximations'): Counter({'to': 1}),\n",
       "              ('and', 'the', 'old'): Counter({'guess': 1}),\n",
       "              ('answer', 'until', 'it'): Counter({'is': 1}),\n",
       "              ('approximations', 'to', 'the'): Counter({'square': 1}),\n",
       "              ('are', 'done', ';'): Counter({'if': 1}),\n",
       "              ('are', 'trying', 'to'): Counter({'compute': 1}),\n",
       "              ('as', 'a', 'procedure'): Counter({':': 1}),\n",
       "              ('average', 'guess', '(/'): Counter({'x': 1}),\n",
       "              ('average', 'x', 'y'): Counter({')': 1}),\n",
       "              ('averaging', 'it', 'with'): Counter({'the': 1}),\n",
       "              ('basic', 'strategy', 'as'): Counter({'a': 1}),\n",
       "              ('better', 'and', 'better'): Counter({'approximations': 1}),\n",
       "              ('better', 'approximations', 'to'): Counter({'the': 1}),\n",
       "              ('but', 'it', 'is'): Counter({'not': 1}),\n",
       "              ('by', \"''\", 'good'): Counter({'enough': 1}),\n",
       "              ('by', 'averaging', 'it'): Counter({'with': 1}),\n",
       "              ('by', 'less', 'than'): Counter({'a': 1}),\n",
       "              ('close', 'enough', 'so'): Counter({'that': 1}),\n",
       "              ('compute', ')', 'and'): Counter({'a': 1}),\n",
       "              ('define', '(', 'average'): Counter({'x': 1}),\n",
       "              ('define', '(', 'good'): Counter({'-': 1}),\n",
       "              ('define', '(', 'improve'): Counter({'guess': 1}),\n",
       "              ('define', '(', 'sqrt'): Counter({'-': 1}),\n",
       "              ('differs', 'from', 'the'): Counter({'radicand': 1}),\n",
       "              ('do', 'for', 'illustration'): Counter({',': 1}),\n",
       "              ('done', ';', 'if'): Counter({'not': 1}),\n",
       "              ('enough', \".''\", 'The'): Counter({'following': 1}),\n",
       "              ('enough', '?', 'guess'): Counter({'x': 2}),\n",
       "              ('enough', 'for', 'our'): Counter({'purposes': 1}),\n",
       "              ('enough', 'so', 'that'): Counter({'its': 1}),\n",
       "              ('exercise', '1.7', '.)'): Counter({'The': 1}),\n",
       "              ('following', 'will', 'do'): Counter({'for': 1}),\n",
       "              ('for', 'illustration', ','): Counter({'but': 1}),\n",
       "              ('for', 'our', 'purposes'): Counter({',': 1}),\n",
       "              ('for', 'the', 'guess'): Counter({'.': 1}),\n",
       "              ('for', 'the', 'radicand'): Counter({'(': 1}),\n",
       "              ('formalize', 'the', 'process'): Counter({'in': 1}),\n",
       "              ('from', 'the', 'radicand'): Counter({'by': 1}),\n",
       "              ('get', 'started', '.'): Counter({None: 1}),\n",
       "              ('good', '-', 'enough'): Counter({'?': 2}),\n",
       "              ('good', 'enough', \".''\"): Counter({'The': 1}),\n",
       "              ('good', 'enough', 'for'): Counter({'our': 1}),\n",
       "              ('good', 'test', '.'): Counter({None: 1}),\n",
       "              ('guess', '(', 'sqrt'): Counter({'-': 1}),\n",
       "              ('guess', '(/', 'x'): Counter({'guess': 1}),\n",
       "              ('guess', ')', 'x'): Counter({'))': 1}),\n",
       "              ('guess', ')))', 'where'): Counter({'(': 1}),\n",
       "              ('guess', ':', '('): Counter({'define': 1}),\n",
       "              ('guess', 'is', 'good'): Counter({'enough': 1}),\n",
       "              ('guess', 'is', 'improved'): Counter({'by': 1}),\n",
       "              ('guess',\n",
       "               'x',\n",
       "               ')'): Counter({'(': 2, '(<': 1, 'guess': 1, 'x': 1}),\n",
       "              ('have', 'to', 'say'): Counter({'what': 1}),\n",
       "              ('here', '0.001', '):'): Counter({'22': 1}),\n",
       "              ('idea', 'is', 'to'): Counter({'improve': 1}),\n",
       "              ('if', '(', 'good'): Counter({'-': 1}),\n",
       "              ('if', 'not', ','): Counter({'we': 1}),\n",
       "              ('illustration', ',', 'but'): Counter({'it': 1}),\n",
       "              ('improve', 'guess', 'x'): Counter({')': 2}),\n",
       "              ('improve', 'the', 'answer'): Counter({'until': 1}),\n",
       "              ('improved', 'by', 'averaging'): Counter({'it': 1}),\n",
       "              ('improved', 'guess', '.'): Counter({None: 1}),\n",
       "              ('in', 'terms', 'of'): Counter({'procedures': 1}),\n",
       "              ('is', 'close', 'enough'): Counter({'so': 1}),\n",
       "              ('is', 'good', 'enough'): Counter({'for': 1}),\n",
       "              ('is', 'improved', 'by'): Counter({'averaging': 1}),\n",
       "              ('is', 'not', 'really'): Counter({'a': 1}),\n",
       "              ('is', 'to', 'improve'): Counter({'the': 1}),\n",
       "              ('it', 'is', 'close'): Counter({'enough': 1}),\n",
       "              ('it', 'is', 'not'): Counter({'really': 1}),\n",
       "              ('it', 'with', 'the'): Counter({'quotient': 1}),\n",
       "              ('iter', '(', 'improve'): Counter({'guess': 1}),\n",
       "              ('iter', 'guess', 'x'): Counter({')': 1}),\n",
       "              ('its', 'square', 'differs'): Counter({'from': 1}),\n",
       "              ('less', 'than', 'a'): Counter({'predetermined': 1}),\n",
       "              (\"let's\", 'formalize', 'the'): Counter({'process': 1}),\n",
       "              ('mean', 'by', \"''\"): Counter({'good': 1}),\n",
       "              ('must', 'repeat', 'the'): Counter({'process': 1}),\n",
       "              ('need', 'a', 'way'): Counter({'to': 1}),\n",
       "              ('not', ',', 'we'): Counter({'must': 1}),\n",
       "              ('not', 'really', 'a'): Counter({'very': 1}),\n",
       "              ('number', 'whose', 'square'): Counter({'root': 1}),\n",
       "              ('obtain', 'better', 'and'): Counter({'better': 1}),\n",
       "              ('of', 'procedures', '.'): Counter({None: 1}),\n",
       "              ('of', 'the', 'radicand'): Counter({'and': 1}),\n",
       "              ('old', 'guess', ':'): Counter({'(': 1}),\n",
       "              ('our', 'purposes', ','): Counter({'we': 1}),\n",
       "              ('predetermined', 'tolerance', '('): Counter({'here': 1}),\n",
       "              ('procedure', ':', '('): Counter({'define': 1}),\n",
       "              ('process', ',', 'we'): Counter({'obtain': 1}),\n",
       "              ('process', 'in', 'terms'): Counter({'of': 1}),\n",
       "              ('process', 'with', 'an'): Counter({'improved': 1}),\n",
       "              ('purposes', ',', 'we'): Counter({'are': 1}),\n",
       "              ('quotient', 'of', 'the'): Counter({'radicand': 1}),\n",
       "              ('radicand', '(', 'the'): Counter({'number': 1}),\n",
       "              ('radicand', 'and', 'the'): Counter({'old': 1}),\n",
       "              ('radicand', 'by', 'less'): Counter({'than': 1}),\n",
       "              ('really', 'a', 'very'): Counter({'good': 1}),\n",
       "              ('repeat', 'the', 'process'): Counter({'with': 1}),\n",
       "              ('root', 'we', 'are'): Counter({'trying': 1}),\n",
       "              ('say', 'what', 'we'): Counter({'mean': 1}),\n",
       "              ('so', 'that', 'its'): Counter({'square': 1}),\n",
       "              ('sqrt', '-', 'iter'): Counter({'(': 1, 'guess': 1}),\n",
       "              ('square', 'differs', 'from'): Counter({'the': 1}),\n",
       "              ('square', 'guess', ')'): Counter({'x': 1}),\n",
       "              ('square', 'root', '.'): Counter({None: 1}),\n",
       "              ('square', 'root', 'we'): Counter({'are': 1}),\n",
       "              ('start', 'with', 'a'): Counter({'value': 1}),\n",
       "              ('strategy', 'as', 'a'): Counter({'procedure': 1}),\n",
       "              ('terms', 'of', 'procedures'): Counter({'.': 1}),\n",
       "              ('than', 'a', 'predetermined'): Counter({'tolerance': 1}),\n",
       "              ('that', 'its', 'square'): Counter({'differs': 1}),\n",
       "              ('the', 'answer', 'until'): Counter({'it': 1}),\n",
       "              ('the', 'guess', '.'): Counter({None: 1}),\n",
       "              ('the', 'guess', 'is'): Counter({'good': 1}),\n",
       "              ('the', 'number', 'whose'): Counter({'square': 1}),\n",
       "              ('the', 'old', 'guess'): Counter({':': 1}),\n",
       "              ('the', 'process', 'in'): Counter({'terms': 1}),\n",
       "              ('the', 'process', 'with'): Counter({'an': 1}),\n",
       "              ('the', 'quotient', 'of'): Counter({'the': 1}),\n",
       "              ('the', 'radicand', '('): Counter({'the': 1}),\n",
       "              ('the', 'radicand', 'and'): Counter({'the': 1}),\n",
       "              ('the', 'radicand', 'by'): Counter({'less': 1}),\n",
       "              ('the', 'square', 'root'): Counter({'.': 1}),\n",
       "              ('this', 'basic', 'strategy'): Counter({'as': 1}),\n",
       "              ('this', 'process', ','): Counter({'we': 1}),\n",
       "              ('to', 'compute', ')'): Counter({'and': 1}),\n",
       "              ('to', 'get', 'started'): Counter({'.': 1}),\n",
       "              ('to', 'improve', 'the'): Counter({'answer': 1}),\n",
       "              ('to', 'say', 'what'): Counter({'we': 1}),\n",
       "              ('to', 'the', 'square'): Counter({'root': 1}),\n",
       "              ('tolerance', '(', 'here'): Counter({'0.001': 1}),\n",
       "              ('trying', 'to', 'compute'): Counter({')': 1}),\n",
       "              ('until', 'it', 'is'): Counter({'close': 1}),\n",
       "              ('value', 'for', 'the'): Counter({'guess': 1, 'radicand': 1}),\n",
       "              ('very', 'good', 'test'): Counter({'.': 1}),\n",
       "              ('way', 'to', 'get'): Counter({'started': 1}),\n",
       "              ('we', 'are', 'done'): Counter({';': 1}),\n",
       "              ('we', 'are', 'trying'): Counter({'to': 1}),\n",
       "              ('we', 'mean', 'by'): Counter({\"''\": 1}),\n",
       "              ('we', 'must', 'repeat'): Counter({'the': 1}),\n",
       "              ('we', 'need', 'a'): Counter({'way': 1}),\n",
       "              ('we', 'obtain', 'better'): Counter({'and': 1}),\n",
       "              ('what', 'we', 'mean'): Counter({'by': 1}),\n",
       "              ('where', '(', 'define'): Counter({'(': 1}),\n",
       "              ('whose', 'square', 'root'): Counter({'we': 1}),\n",
       "              ('will', 'do', 'for'): Counter({'illustration': 1}),\n",
       "              ('with', 'a', 'value'): Counter({'for': 1}),\n",
       "              ('with', 'an', 'improved'): Counter({'guess': 1}),\n",
       "              ('with', 'the', 'quotient'): Counter({'of': 1}),\n",
       "              ('write', 'this', 'basic'): Counter({'strategy': 1}),\n",
       "              ('x', ')', '('): Counter({'average': 1, 'if': 1}),\n",
       "              ('x', ')', '(<'): Counter({'(': 1}),\n",
       "              ('x', ')', 'guess'): Counter({'(': 1}),\n",
       "              ('x', ')', 'x'): Counter({')))': 1}),\n",
       "              ('x', '))', '0.001'): Counter({'))': 1}),\n",
       "              ('x', ')))', 'A'): Counter({'guess': 1}),\n",
       "              ('x', 'guess', ')))'): Counter({'where': 1}),\n",
       "              ('x', 'y', ')'): Counter({'(/': 1, '2': 1}),\n",
       "              ('y', ')', '(/'): Counter({'(+': 1}),\n",
       "              ('y', ')', '2'): Counter({'))': 1})}))"
      ]
     },
     "execution_count": 20,
     "metadata": {},
     "output_type": "execute_result"
    }
   ],
   "source": [
    "find_counts(sentences(tokenise(sample_text)), tuple_size=3)"
   ]
  },
  {
   "cell_type": "code",
   "execution_count": 21,
   "metadata": {
    "collapsed": false,
    "jupyter": {
     "outputs_hidden": false
    }
   },
   "outputs": [
    {
     "data": {
      "text/plain": [
       "('Continuing', 'this', 'process')"
      ]
     },
     "execution_count": 21,
     "metadata": {},
     "output_type": "execute_result"
    }
   ],
   "source": [
    "s = sentences(tokenise(sample_text))[0]\n",
    "tuple(s[:3])"
   ]
  },
  {
   "cell_type": "code",
   "execution_count": 22,
   "metadata": {
    "collapsed": true,
    "jupyter": {
     "outputs_hidden": true
    }
   },
   "outputs": [],
   "source": [
    "unaccent_specials = ''.maketrans({\"’\": \"'\", \"’\": \"'\"})\n",
    "def unaccent(text):\n",
    "    \"\"\"Remove all accents from letters.\n",
    "    It does this by converting the unicode string to decomposed compatability\n",
    "    form, dropping all the combining accents, then re-encoding the bytes.\n",
    "\n",
    "    >>> unaccent('hello')\n",
    "    'hello'\n",
    "    >>> unaccent('HELLO')\n",
    "    'HELLO'\n",
    "    >>> unaccent('héllo')\n",
    "    'hello'\n",
    "    >>> unaccent('héllö')\n",
    "    'hello'\n",
    "    >>> unaccent('HÉLLÖ')\n",
    "    'HELLO'\n",
    "    \"\"\"\n",
    "    translated_text = text.translate(unaccent_specials)\n",
    "    return unicodedata.normalize('NFKD', translated_text).\\\n",
    "        encode('ascii', 'ignore').\\\n",
    "        decode('utf-8')"
   ]
  },
  {
   "cell_type": "code",
   "execution_count": 23,
   "metadata": {
    "collapsed": false,
    "jupyter": {
     "outputs_hidden": false
    }
   },
   "outputs": [],
   "source": [
    "sicp = unaccent(open('sicp.txt').read())\n",
    "sicp_starts, sicp_counts = find_counts(sentences(tokenise(sicp)), tuple_size=3)"
   ]
  },
  {
   "cell_type": "code",
   "execution_count": 24,
   "metadata": {
    "collapsed": false,
    "jupyter": {
     "outputs_hidden": false
    }
   },
   "outputs": [
    {
     "data": {
      "text/plain": [
       "[(('the', 'controller', 'completely'), Counter({'describeof': 1})),\n",
       " (('equations', 'imply', 'that'), Counter({'(': 1})),\n",
       " (('important', 'point', 'to'), Counter({'note': 1, 'observe': 1})),\n",
       " (('separately', 'by', 'each'), Counter({'query': 1})),\n",
       " (('to', 'explore', 'variations'), Counter({'of': 1})),\n",
       " (('rock', 'songs', '.'), Counter({None: 1})),\n",
       " (('software', 'engineers', 'have'), Counter({'the': 1})),\n",
       " (('great', 'confusion', ','), Counter({'as': 1})),\n",
       " (('increasingly', 'elaborate', 'models'), Counter({'of': 1})),\n",
       " (('-', 'lambda1', '))'), Counter({'entry2': 2}))]"
      ]
     },
     "execution_count": 24,
     "metadata": {},
     "output_type": "execute_result"
    }
   ],
   "source": [
    "list(sicp_counts.items())[:10]"
   ]
  },
  {
   "cell_type": "code",
   "execution_count": 25,
   "metadata": {
    "collapsed": false,
    "jupyter": {
     "outputs_hidden": false
    }
   },
   "outputs": [
    {
     "data": {
      "text/plain": [
       "[(('29', 'There', 'is'), 1),\n",
       " (('In', 'such', 'an'), 1),\n",
       " (('To', 'answer', 'a'), 1),\n",
       " (('Y', '.'), 2),\n",
       " (('If', 'f', '('), 1),\n",
       " (('This', 'can', 'greatly'), 1),\n",
       " (('Design', 'a', 'machine'), 1),\n",
       " (('Exercise', '2.8', '.'), 1),\n",
       " (('Control', '(', 'how'), 1),\n",
       " (('C', '.'), 4)]"
      ]
     },
     "execution_count": 25,
     "metadata": {},
     "output_type": "execute_result"
    }
   ],
   "source": [
    "list(sicp_starts.items())[:10]"
   ]
  },
  {
   "cell_type": "code",
   "execution_count": 26,
   "metadata": {
    "collapsed": false,
    "jupyter": {
     "outputs_hidden": false
    }
   },
   "outputs": [
    {
     "data": {
      "text/plain": [
       "[None]"
      ]
     },
     "execution_count": 26,
     "metadata": {},
     "output_type": "execute_result"
    }
   ],
   "source": [
    "list(sicp_counts[('Gas', 'Meters', '.')].elements())"
   ]
  },
  {
   "cell_type": "code",
   "execution_count": 27,
   "metadata": {
    "collapsed": false,
    "jupyter": {
     "outputs_hidden": false
    }
   },
   "outputs": [
    {
     "data": {
      "text/plain": [
       "('The', 'constructor', 'for')"
      ]
     },
     "execution_count": 27,
     "metadata": {},
     "output_type": "execute_result"
    }
   ],
   "source": [
    "random.choice(list(sicp_starts.elements()))"
   ]
  },
  {
   "cell_type": "code",
   "execution_count": 28,
   "metadata": {
    "collapsed": false,
    "jupyter": {
     "outputs_hidden": false
    }
   },
   "outputs": [
    {
     "data": {
      "text/plain": [
       "('+', 'or')"
      ]
     },
     "execution_count": 28,
     "metadata": {},
     "output_type": "execute_result"
    }
   ],
   "source": [
    "t = ('as', '+')\n",
    "t[1:] + ('or', )"
   ]
  },
  {
   "cell_type": "code",
   "execution_count": 29,
   "metadata": {
    "collapsed": true,
    "jupyter": {
     "outputs_hidden": true
    }
   },
   "outputs": [],
   "source": [
    "def markov_item(starts, counts, max_len=None):\n",
    "    valid_found = False\n",
    "    while not valid_found:\n",
    "        i = 0\n",
    "        current = random.choice(list(starts.elements()))\n",
    "        chain = list(current)\n",
    "        next_item = random.choice(list(counts[current].elements()))\n",
    "        while next_item and ((max_len and i < max_len) or not max_len):\n",
    "            chain += [next_item]\n",
    "            current = current[1:] + (next_item, )\n",
    "            i += 1\n",
    "            next_item = random.choice(list(counts[current].elements()))\n",
    "            # print(chain, ':', current, ':', list(counts[current].elements()), ':', next_item)\n",
    "        if max_len and i < max_len:\n",
    "            valid_found = True\n",
    "        if not max_len:\n",
    "            valid_found = True\n",
    "    return chain"
   ]
  },
  {
   "cell_type": "code",
   "execution_count": 30,
   "metadata": {
    "collapsed": false,
    "jupyter": {
     "outputs_hidden": false
    }
   },
   "outputs": [
    {
     "data": {
      "text/plain": [
       "'46 Alternatively , multiprocessing computers provide instructions that support atomic operations directly in hardware .'"
      ]
     },
     "execution_count": 30,
     "metadata": {},
     "output_type": "execute_result"
    }
   ],
   "source": [
    "' '.join(markov_item(sicp_starts, sicp_counts, 500))"
   ]
  },
  {
   "cell_type": "code",
   "execution_count": 31,
   "metadata": {
    "collapsed": false,
    "jupyter": {
     "outputs_hidden": false
    }
   },
   "outputs": [
    {
     "data": {
      "text/plain": [
       "Counter({'.': 1})"
      ]
     },
     "execution_count": 31,
     "metadata": {},
     "output_type": "execute_result"
    }
   ],
   "source": [
    "sicp_counts['the', 'dispatch', 'procedure']"
   ]
  },
  {
   "cell_type": "code",
   "execution_count": 32,
   "metadata": {
    "collapsed": false,
    "jupyter": {
     "outputs_hidden": false
    }
   },
   "outputs": [
    {
     "data": {
      "text/plain": [
       "'Continuing this process , we obtain better and better approximations to the square root .'"
      ]
     },
     "execution_count": 32,
     "metadata": {},
     "output_type": "execute_result"
    }
   ],
   "source": [
    "' '.join(markov_item(one_s_starts, one_s_counts, 500))"
   ]
  },
  {
   "cell_type": "code",
   "execution_count": 33,
   "metadata": {
    "collapsed": false,
    "jupyter": {
     "outputs_hidden": false
    }
   },
   "outputs": [
    {
     "data": {
      "text/plain": [
       "(defaultdict(collections.Counter,\n",
       "             {(',', 'we'): Counter({'obtain': 1}),\n",
       "              ('Continuing', 'this'): Counter({'process': 1}),\n",
       "              ('and', 'better'): Counter({'approximations': 1}),\n",
       "              ('approximations', 'to'): Counter({'the': 1}),\n",
       "              ('better', 'and'): Counter({'better': 1}),\n",
       "              ('better', 'approximations'): Counter({'to': 1}),\n",
       "              ('obtain', 'better'): Counter({'and': 1}),\n",
       "              ('process', ','): Counter({'we': 1}),\n",
       "              ('root', '.'): Counter({None: 1}),\n",
       "              ('square', 'root'): Counter({'.': 1}),\n",
       "              ('the', 'square'): Counter({'root': 1}),\n",
       "              ('this', 'process'): Counter({',': 1}),\n",
       "              ('to', 'the'): Counter({'square': 1}),\n",
       "              ('we', 'obtain'): Counter({'better': 1})}),\n",
       " Counter({('Continuing', 'this'): 1}))"
      ]
     },
     "execution_count": 33,
     "metadata": {},
     "output_type": "execute_result"
    }
   ],
   "source": [
    "one_s_counts, one_s_starts"
   ]
  },
  {
   "cell_type": "code",
   "execution_count": 34,
   "metadata": {
    "collapsed": false,
    "jupyter": {
     "outputs_hidden": false
    }
   },
   "outputs": [],
   "source": [
    "def sentence_join(tokens):\n",
    "    sentence = ''\n",
    "    for t in tokens:\n",
    "        if t[-1] not in \".,:;')-\":\n",
    "            sentence += ' '\n",
    "        sentence += t\n",
    "    return sentence.strip()"
   ]
  },
  {
   "cell_type": "code",
   "execution_count": 35,
   "metadata": {
    "collapsed": false,
    "jupyter": {
     "outputs_hidden": false
    }
   },
   "outputs": [
    {
     "data": {
      "text/plain": [
       "'4, we can usually do better by taking advantage of additional structure that may be represented in two almost equivalent ways: and He has written the following two rules, we can find integers not divisible by 7 simply by accessing elements of this stream: ( define input- 1 input- 2 to 1 and allow the values to which they are listed.'"
      ]
     },
     "execution_count": 35,
     "metadata": {},
     "output_type": "execute_result"
    }
   ],
   "source": [
    "sentence_join(markov_item(sicp_starts, sicp_counts, 500))"
   ]
  },
  {
   "cell_type": "code",
   "execution_count": 36,
   "metadata": {
    "collapsed": false,
    "jupyter": {
     "outputs_hidden": false
    }
   },
   "outputs": [
    {
     "data": {
      "text/plain": [
       "\"3. We model state with local state variables describing the actual object's state. Since ? x is bound in the frame. 61 Interest in logic programming peaked during the early 80s when the Japanese government began an ambitious project aimed at building superfast computers optimized to run logic programming languages. 4.1. We will compile the definition of f and start the machine, and so on, his modified eval will usually check fewer clauses than the original eval before identifying the type of the expression. This makes no difference in the values returned by the call to make- operation- exp- label dest)))) ( lambda ( pair) ( prime ? (+ ( car pair) ( cadr s))) ( set- signal ! input- 1 ( right- branch set)) ( element- of list2))) ( require ( null ? rest) result ( iter ( stream- cdr, and so will work with a system that performs arithmetic operations on complex numbers and ordinary numbers should be the sequence ( enumerate- interval stream- filter examines the stream- car s) ( if ( not ( job ? x ( computer ? type) could be constructed by evaluating the expression ( f ? y) a), and the remaining pairs: 67 Observe that the expression is a definition, so it calls compile- definition to compile code to compute the gcd when the rational numbers are constructed. 1. In order to keep the procedure general, we can print rational numbers by printing the sequence of items in a list and generate the list of words for the required part, thus preserving the illusion that all the possible values of an inexact quantity). The result of adding, subtracting, multiplying, or dividing two intervals is a function only of the widths of the intervals, it is irrelevant what a, b, x, and use this to define gcd- terms a b)))) Using the substitution model cannot do this. In general, however, we can install in our simulation program a meter'' that measures the size of the exponent we can compute n ! using the recursive factorial procedure: 27 (( lambda ( a b c) '( d e f));;; M- Eval input: ( list- union ( list first- reg) ( registers- needed relations, computing in terms of non- strict.\""
      ]
     },
     "execution_count": 36,
     "metadata": {},
     "output_type": "execute_result"
    }
   ],
   "source": [
    "' '.join(sentence_join(markov_item(sicp_starts, sicp_counts, 500)) for _ in range(10))"
   ]
  },
  {
   "cell_type": "code",
   "execution_count": 37,
   "metadata": {
    "collapsed": false,
    "jupyter": {
     "outputs_hidden": false
    }
   },
   "outputs": [],
   "source": [
    "kjb = unaccent(open('king-james-bible.txt').read())\n",
    "kjb_starts, kjb_counts = find_counts(sentences(tokenise(kjb)), tuple_size=3)"
   ]
  },
  {
   "cell_type": "code",
   "execution_count": 38,
   "metadata": {
    "collapsed": false,
    "jupyter": {
     "outputs_hidden": false
    }
   },
   "outputs": [
    {
     "data": {
      "text/plain": [
       "'12: 1 Help, LORD; for thy God helpeth thee. 66: 8 O bless our God, and that ye might fear the LORD from this time forth and for evermore. 9: 30 If there be laid on him a scarlet robe. 16: 38 The son of Amzi, the son of Micah, as he hath said, and be dandled upon her knees. 4: 12 And David commanded to gather together the strangers that came out of the land, saying, Because I drew him out of the temple which was in Bethlehem. 3: 24 Then he is gracious, and will give ten tribes to thee: We have such an high priest became us, who knew no sin; that we should die in the pit, and his oath unto Isaac; 105: 15 Saying, Touch not mine anointed, and be astonied one with another what they might do to Jesus. 10: 8 Neither let us commit fornication, as some of them committed, and of the south shall come into the land which I sware unto Abraham, As for Sarai thy wife, and upon the great toe of his right foot, upon the four corners of one base: and the truth shall make you free. 8: 15 We who are Jews by nature, and wert graffed contrary to nature into a good olive tree: how much more do his friends go far from him ? he that formed the earth and the heaven, they go to be with Sarah after the manner of men were they whom ye slew at Tabor ? And they said, Seven. 13: 26 Therefore their inhabitants were of small power, they were thy merchants in all sorts of wine: 10: 2 Thus saith the Lord GOD, I will get me honour upon Pharaoh, and let it be granted to the Jews: for the letter killeth, but the Holy Ghost. 13: 6 Then David put garrisons in Syria of Damascus: and when he came to David to Hebron, so he would also finish in you the same things to you in truth, in judgment, and equity cannot enter.'"
      ]
     },
     "execution_count": 38,
     "metadata": {},
     "output_type": "execute_result"
    }
   ],
   "source": [
    "' '.join(sentence_join(markov_item(kjb_starts, kjb_counts, 500)) for _ in range(10))"
   ]
  },
  {
   "cell_type": "code",
   "execution_count": 39,
   "metadata": {
    "collapsed": true,
    "jupyter": {
     "outputs_hidden": true
    }
   },
   "outputs": [],
   "source": [
    "all_starts = sicp_starts + kjb_starts"
   ]
  },
  {
   "cell_type": "code",
   "execution_count": 40,
   "metadata": {
    "collapsed": false,
    "jupyter": {
     "outputs_hidden": false
    }
   },
   "outputs": [
    {
     "data": {
      "text/plain": [
       "[(('119', ':', '112'), 1),\n",
       " (('29', 'There', 'is'), 1),\n",
       " (('To', 'answer', 'a'), 1),\n",
       " (('Y', '.'), 2),\n",
       " (('36', ':', '36'), 3),\n",
       " (('Ye', 'shall', 'seek'), 1),\n",
       " (('And', 'in', 'like'), 1),\n",
       " (('If', 'f', '('), 1),\n",
       " (('3', ':', '47'), 1),\n",
       " (('27', ':', '24'), 7),\n",
       " (('26', ':', '28'), 5),\n",
       " (('Control', '(', 'how'), 1),\n",
       " (('16', ':', '43'), 3),\n",
       " (('They', 'should', 'be'), 1),\n",
       " (('139', ':', '9'), 1),\n",
       " (('So', 'he', 'drew'), 1),\n",
       " (('If', 'the', 'symbol'), 1),\n",
       " (('RC', 'should', 'take'), 1),\n",
       " (('?', 'type', ')'), 3),\n",
       " (('How', 'does', 'the'), 1)]"
      ]
     },
     "execution_count": 40,
     "metadata": {},
     "output_type": "execute_result"
    }
   ],
   "source": [
    "list(all_starts.items())[:20]"
   ]
  },
  {
   "cell_type": "code",
   "execution_count": 41,
   "metadata": {
    "collapsed": true,
    "jupyter": {
     "outputs_hidden": true
    }
   },
   "outputs": [],
   "source": [
    "all_counts = collections.defaultdict(collections.Counter)\n",
    "for k in sicp_counts:\n",
    "    all_counts[k] = sicp_counts[k].copy()\n",
    "for k in kjb_counts:\n",
    "    all_counts[k] += kjb_counts[k].copy()"
   ]
  },
  {
   "cell_type": "code",
   "execution_count": 42,
   "metadata": {
    "collapsed": false,
    "jupyter": {
     "outputs_hidden": false
    }
   },
   "outputs": [
    {
     "data": {
      "text/plain": [
       "\"In becoming an expert programmer, just as our embedded Lisp evaluator uses primitives and control structure from the underlying Scheme system to perform arithmetic with rational numbers. What are these constants ? Similarly, find the ratios of the stack required to compute n ! by specifying that we first multiply 1 by 2, 3, 6, 10, 15,.... Exercise 3.56. Describe what kind of information ( patterns and frames) is included in this history, and how abstraction preserves for us the flexibility to consider alternate implementations. When evaluation is complete, x will be 1, y will be 2, 3 } could be represented as a pair of numbers: the x coordinate and the y coordinate. 43- 112. The timing diagram in figure 3.29, where Peter changes the account balance between the times when Paul accesses the account only very rarely. The painter that draws a line on the screen between two specified points. ( save continue) ( save n); save factorial procedure Figure 5.17: Compilation of the definition of the primitive procedure objects, so long as apply can identify and apply them by using the order of events where balance starts at 100, Peter withdraws 10, Paul withdraws 25, and yet the final value of balance. The entries at ev- application or ev- begin ev- definition- 1)) after- gcd- 2 Figure 5.10: Assigning labels to the continue register, since each level'' of the polynomials can be integers, rational numbers, complex numbers are implemented in terms of n for the total number of leaves of a tree branch- dest breakpoint broken heart bug capturing a free variable car ( primitive procedure) apply- dispatch ( test ( op definition?) ( reg ( reg proc)) ( goto ( label read- eval- print- loop)) ( else ( actual- value rather than eval: ( define ( add- streams ( scale- list integrand dt) int))) The interpreter's ability to deal with both of these can be used as a preparation for work in artificial intelligence. When we consider processes that operate on this representation.\""
      ]
     },
     "execution_count": 42,
     "metadata": {},
     "output_type": "execute_result"
    }
   ],
   "source": [
    "' '.join(sentence_join(markov_item(sicp_starts, sicp_counts, 500)) for _ in range(10))"
   ]
  },
  {
   "cell_type": "code",
   "execution_count": 43,
   "metadata": {
    "collapsed": false,
    "jupyter": {
     "outputs_hidden": false
    }
   },
   "outputs": [
    {
     "data": {
      "text/plain": [
       "'8: 16 ( For six months did Joab remain there with all Israel, and he shall serve: I have not shewed them. 25: 34 But when the blade was sprung up, it withered away, because they were accursed: neither will I tempt the LORD. 16: 44 Behold, he breaketh down, and the land of thy kindred that is called a brother be a fornicator, or covetous, or an Hebrew woman, be sold unto your enemies for bondmen and bondwomen unto you: ye shall pass before your brethren the children of Israel took Amaziah king of Judah went up to eat and drink before him; and he gave him to wife Asenath the daughter of Saul, that Saul put the people in whose heart are the ways of my people: and he took her, and yet couldest not be satisfied; and thy raiment was of fine gold, amounting to six hundred talents. 32: 6 And Israel said unto him, I know thee by name, hath lifted up his eyes, and when he saw that, behold, I have put off my sackcloth, and girded himself. 28: 9 But the wise took oil in their vessels with their lamps, and took counsel how they might destroy him. And Tobiah sent letters to put me into the dust of your city, which were come again out of the camp, all Israel have transgressed thy law, nor hearkened unto me, even he lifted up his eyes, and look not back: bring my sons from far, their silver and their gold shall be able to redeem it, then it shall be given unto you. 37: 3 Trust in the LORD, that obeyeth the voice of singing men and singing women. 19: 10 Delight is not seemly for a fool: much less do lying lips a prince. 36: 18 Because of the multitude of thy strangers shall be like small dust, and made him look up: and it came to pass the selfsame day the hand of the LORD, that hate thee. 13: 58 And they called for Samson out of the midst of us, and shall rain it upon him while he is near: 55: 11 So that the face of his brother whom he slew at one time.'"
      ]
     },
     "execution_count": 43,
     "metadata": {},
     "output_type": "execute_result"
    }
   ],
   "source": [
    "' '.join(sentence_join(markov_item(kjb_starts, kjb_counts, 500)) for _ in range(10))"
   ]
  },
  {
   "cell_type": "code",
   "execution_count": 44,
   "metadata": {
    "collapsed": false,
    "jupyter": {
     "outputs_hidden": false
    }
   },
   "outputs": [
    {
     "data": {
      "text/plain": [
       "\"7: 3 And when I rose in the morning as he returned into the host, and went forth before them all, saying, Behold, I have brought him forth abroad, and said, Thy servant Uriah the Hittite: thirty and seven thousand. 135: 8 Who also declared unto us your love in the truth; It is expedient for you, that ye should be guilty. 68: 10 Thy cheeks are comely with rows of jewels, thy neck with chains of gold. 2: 25 And he set up the horn. 19: 14 My kinsfolk have failed, and my people love to have it return 0. 5: 14 And when Eli heard the noise of the taking of Babylon the earth is earthly, and speaketh uprightly; he that toucheth the land, concerning the vessels that remain in this city, and had beaten the graven images into powder, and strawed it upon the altar: these are the kings of Israel ? 16: 10 And I took the little book. 17: 8 Upright men shall be made smooth; 3: 2 And the Lord make you to increase and abound in love one toward another; men with men working that which is sold shall remain in the day when I drink it new with you in weakness, and in all thy coast seven days; and also after that, when they spake unto them, Hearken unto the voice of mirth, and the seats of them that boil, where the body of Christ; that we may put them to shame that hated us. 2: 2 Then said the LORD, and of brass, and carried the people away into Babylon unto Christ are fourteen generations; and thou shalt live. 27: 13 Why dost thou strive against him ? or if thy transgressions be multiplied, and all the curses that are written in the king's dale: for he hath been worth a double hired servant to thee, and thy silver and thy gold is mine; and she shall turn to you again. 18: 43 And the LORD spake unto Moses, saying, Have thou nothing to do with thee, saith the Lord GOD.\""
      ]
     },
     "execution_count": 44,
     "metadata": {},
     "output_type": "execute_result"
    }
   ],
   "source": [
    "' '.join(sentence_join(markov_item(all_starts, all_counts, 500)) for _ in range(10))"
   ]
  },
  {
   "cell_type": "code",
   "execution_count": 45,
   "metadata": {
    "collapsed": false,
    "jupyter": {
     "outputs_hidden": false
    }
   },
   "outputs": [],
   "source": [
    "all2 = unaccent(open('sicp-trimmed.txt').read() + open('king-james-bible.txt').read())\n",
    "all2_starts, all2_counts = find_counts(sentences(tokenise(all2)), tuple_size=2)"
   ]
  },
  {
   "cell_type": "code",
   "execution_count": 46,
   "metadata": {
    "collapsed": false,
    "jupyter": {
     "outputs_hidden": false
    },
    "scrolled": true
   },
   "outputs": [
    {
     "data": {
      "text/plain": [
       "['Typical memory systems provide a driver loop.',\n",
       " '2: 10 Which doeth great wonders, ye were sealed twelve thousand.',\n",
       " \"59: 13 ( 3 4)) ( fib n) ( newline)) We must evaluate (* x y) (/ (+ x 4))) x) ( let (( avpt (/ (+ ( sum term a) ( registers- needed seq1)) ( branch ( label ev- sequence '( proc argl continue)); linkage code machine- model > < value>. Thus, she came trembling, he that ruled throughout the seven seals thereof: it shall be forty and five hundred and ten thousand in breadth.\",\n",
       " '9: 22 And the chief captain that he shall do my prophets no harm: 35 And the firstborn, Jehush the second time the LORD: that I visit them, If thou cast down, even since the assembler to store the current value of the sword, and to which denominators.',\n",
       " 'And he blessed Joseph, saying, They hated me, Son of man: preserve my life, or a product of the mountain which is escaped ? And the children of Israel went thither a whoring after their tongues, in the dispatch as in a 1954 paper that essentially founded the earth are burned without inhabitant, and it was not, to find the value of a combination operation cross- type information.',\n",
       " '35: 14 And that first covenant had also seen the Father hath loved us, and mourn; 61: 8 But there is neither bond nor free: for that the brook Kidron.',\n",
       " '22: 18 But he that confirmeth not all of them in the procedure object followed by code to check whether the car pointer of the winepress shall not do any thing as of the congregation of the king had heard that it is symmetrical-- variables are transformed in this case, we will shew who are under the shadow of thy body, yet shall know that the LORD.',\n",
       " '1: 16 Wash you, an he lamb without blemish: 29 Then fled Moses at this: primitive expressions such as C.',\n",
       " '22: 4: 6 Then shall he appear the sign of a man to his sons that shall vex thee, O Judah, in which my people, that Pharaoh should have sorrow from them that did cleave unto the LORD shall renew their strength, O Media; all that pertained to Saul ? choose you, having never learned ? 7: 1 And the remnant of the fire shall ever be removed, and exhort.',\n",
       " '12: 42 For I was an angel come down from the lions ? The most common way to do unto the king said unto the king of Shimron, and slew them at all times, to identify all the army of the house, and cause the horn of oil, saith the LORD said unto him, Nay; but the LORD followed them.',\n",
       " '6: 2 And he said unto them; and it was told is true, then that we have students use the second seal, I have decked my bed I sought him, Is Saul also went his way, and the transgression of an hundred talents of gold, and in the way he sees it.',\n",
       " 'C.',\n",
       " '11: 11 If ye have gathered the wind ceased: and David his father: and it was hid three months in Jerusalem.',\n",
       " 'Next, the same with a great forsaking in the world with time.',\n",
       " '13: 10 Yet was she slain.',\n",
       " '18: 30 And Mephibosheth had a long blast with the trumpets, and cast them down into Egypt.',\n",
       " 'Thus make- queue, a third type.',\n",
       " '( Compare the two patterns (? x c ? x should be apparent that the primitive elements of its arguments, the selectors they call their lands; every one for his mouth, and the candlestick, and filled them with the voice of Israel, to him, and how he had delight in lies: they shall light the hidden wisdom, nor did him honour at his words: and the nail, and on the eighth day; and there be laid in the six hundred men; leave us not love in the face of the Lord, behold, men of Israel; and he shall eat the fruit of the fat of rams, of the air; the family of the prophets, that we have not profited them that they might not lift up thine eyes be open, and teachest him out of thy counsels of the blood upon him.',\n",
       " '3: 33 They give drink to every good work.',\n",
       " '14: 8 For he that is an everlasting covenant, whom God hath remembered her iniquities.',\n",
       " '46: 2 When I brake the bands of their sacrifices, which brought thee out of the nations be blessed.',\n",
       " '4: 10 Arise ye, when thou thyself art a God of Abraham, I was an hundred forty and five.',\n",
       " '2: 17 And David said, How many hired servants of Saul the son of Israel eat not any that were virgins apparelled.',\n",
       " '8: 15 Every raven after his servant with the edge of the altar round about Gibeah.',\n",
       " '32: 31 Behold, thou hast made void the counsel of peace, without changing the thunk once the longsuffering of our God.',\n",
       " '2: 21 Have pity upon the earth; and he had commanded him, saying, So is he which baptizeth with the notion of a variable, we will change make- instruction- sequences is thus the empty frame, [ 2 ] message- passing techniques developed in conjunction with higher- order evaluation applicative order as a branch, and begat sons and their inheritance be given to thy fathers hath given me knowledge of him.',\n",
       " '8: 10 And Judah saw his sons.',\n",
       " 'Proof of correctness of the priests praised the LORD.',\n",
       " '71: 19 I know thy works.',\n",
       " '12: 44 And Shema begat Raham, the son of Josedech, the dart, nor make any manner of sickness and all the people that they should believe on him, Let her alone: if so be that they were come from the face of the nations of the going up to the Huffman tree of figure 5.12 and examine the state of that value leads to the LORD for evermore, and in the midst of Israel numbered, and ointments, and twelve oxen, that they should be the Son, go forth as a tree non- strict nondeterminism, we can tell whether the bindings in the evaluator machine, and followed the LORD sent an angel standing in the house of feasting and joy; he hath taken increase: but I obtained mercy; that they without us: for thou art good in the midst of the expression ( and ( not (= ( remainder ( square x) Figure 3.12: Lists x: (( a b) ( first- class elements in language design who were fifty and six.']"
      ]
     },
     "execution_count": 46,
     "metadata": {},
     "output_type": "execute_result"
    }
   ],
   "source": [
    "[sentence_join(markov_item(all2_starts, all2_counts, 500)) for _ in range(30)]"
   ]
  },
  {
   "cell_type": "code",
   "execution_count": 47,
   "metadata": {
    "collapsed": false,
    "jupyter": {
     "outputs_hidden": false
    }
   },
   "outputs": [],
   "source": [
    "sicp_lovecraft = unaccent(open('sicp-trimmed.txt').read() + open('lovecraft.txt').read())\n",
    "sl2_starts, sl2_counts = find_counts(sentences(tokenise(sicp_lovecraft)), tuple_size=2)"
   ]
  },
  {
   "cell_type": "code",
   "execution_count": 48,
   "metadata": {
    "collapsed": false,
    "jupyter": {
     "outputs_hidden": false
    }
   },
   "outputs": [
    {
     "data": {
      "text/plain": [
       "'But on the moon shone down cold through the unseen tumbler meant a danger not to be increasing in vividness and darkened with dread of opening it or descend the wide appearance of this treatment of not and lisp- value rather than practical examples in this decrepit edifice. There were gods and the receiver, and shuddered. Bothersome forms, and the hellish image; but it is worth correcting. Three coffin- shaped man with Oriental eyes has said that Aspinwall had died of it. With the extra lens I could not have written the following procedures. The telepathic messages had not yet sufficiently trained to do with queer oils as Marceline had always done. The inlaid doors and the pc: ( define ( analyze- quoted exp) ( let (( x 3- 10 I have ever shared. Example: Arithmetic Operations The task seemed known to me in this farther void of fear and triumph seemed to evoke. Only after such a loathsome cost, and the awful concept of a branch instruction at the ends of the equator had been there and engulfed all the efforts of sturdy Colonial tenants and dewy rose- wreathed world of somnolent cerebration. Sir Wade would speak of our physical creation.'"
      ]
     },
     "execution_count": 48,
     "metadata": {},
     "output_type": "execute_result"
    }
   ],
   "source": [
    "\" \".join(sentence_join(markov_item(sl2_starts, sl2_counts, 500)) for _ in range(10))"
   ]
  },
  {
   "cell_type": "code",
   "execution_count": 49,
   "metadata": {
    "collapsed": false,
    "jupyter": {
     "outputs_hidden": false
    }
   },
   "outputs": [
    {
     "data": {
      "text/html": [
       "<p>\" I buried myself in a fearful daze out into the grounds, and especially down cellar, and from what I went with them gold- green stone idol found. We had all been rather jovial, and a general alarm. We will also modify the environment as context for evaluation of the creatures to invade a lethal stupor which wards off madness by dulling the memory of those books wish a word or a 1) (* x (+ x 2))) produces the average citizen. The names of Akeley and play, and produces a painter; therefore, is called. There are, which one might spy through the remaining stretch of road, and as she had said in a scientific purpose, so that its cdr is the empty stream or a labyrinth of inexplicably fashioned metal under a certain transcribed witch- woman- her name in life imagined, the sleeping plain. To form even a sign of man's world and perhaps sinister history, philosophy, and was placed on exhibition early in the water change- detector sense- data and primitive mammals, and the like. His walks were late ( as that of the forbidden ? The rifling of Ezra Weeden, who had come to recognize the will and buried to the open sea some were incised and wholly at the hospital. Trying the match is basically the same way as for the tomb of man and his hints occasionally became concrete. Curwen's sailors would then pose as a free hand and radiating out in the neighbourhood noted. He had known Al always, were freely spoken of as two separate problems: what'' to a tremendous effect on me, and even the myriad towering stories had fallen through, revealing a wide range.</h1>"
      ],
      "text/plain": [
       "<IPython.core.display.HTML object>"
      ]
     },
     "metadata": {},
     "output_type": "display_data"
    }
   ],
   "source": [
    "display(HTML('<p>' + \n",
    "             \" \".join(sentence_join(markov_item(sl2_starts, sl2_counts, 500)) for _ in range(10)) + \n",
    "             '</h1>'))"
   ]
  },
  {
   "cell_type": "code",
   "execution_count": 57,
   "metadata": {
    "collapsed": false,
    "jupyter": {
     "outputs_hidden": false
    },
    "scrolled": true
   },
   "outputs": [
    {
     "data": {
      "text/plain": [
       "(8177, 249224)"
      ]
     },
     "execution_count": 57,
     "metadata": {},
     "output_type": "execute_result"
    }
   ],
   "source": [
    "sum(sicp_starts.values()), sum(sum(c.values()) for c in sicp_counts.values())"
   ]
  },
  {
   "cell_type": "code",
   "execution_count": 58,
   "metadata": {
    "collapsed": false,
    "jupyter": {
     "outputs_hidden": false
    },
    "scrolled": true
   },
   "outputs": [
    {
     "data": {
      "text/plain": [
       "(26374, 958228)"
      ]
     },
     "execution_count": 58,
     "metadata": {},
     "output_type": "execute_result"
    }
   ],
   "source": [
    "sum(kjb_starts.values()), sum(sum(c.values()) for c in kjb_counts.values())"
   ]
  },
  {
   "cell_type": "code",
   "execution_count": 91,
   "metadata": {
    "collapsed": false,
    "jupyter": {
     "outputs_hidden": false
    },
    "scrolled": true
   },
   "outputs": [
    {
     "data": {
      "text/plain": [
       "(24560, 683961)"
      ]
     },
     "execution_count": 91,
     "metadata": {},
     "output_type": "execute_result"
    }
   ],
   "source": [
    "lovecraft = unaccent(open('lovecraft-trimmed.txt').read())\n",
    "lovecraft_starts, lovecraft_counts = find_counts(sentences(tokenise(lovecraft)), tuple_size=2)\n",
    "sum(lovecraft_starts.values()), sum(sum(c.values()) for c in lovecraft_counts.values())"
   ]
  },
  {
   "cell_type": "code",
   "execution_count": 92,
   "metadata": {
    "collapsed": false,
    "jupyter": {
     "outputs_hidden": false
    }
   },
   "outputs": [
    {
     "data": {
      "text/plain": [
       "3.225388284211814"
      ]
     },
     "execution_count": 92,
     "metadata": {},
     "output_type": "execute_result"
    }
   ],
   "source": [
    "sum(kjb_starts.values()) / sum(sicp_starts.values())"
   ]
  },
  {
   "cell_type": "code",
   "execution_count": 93,
   "metadata": {
    "collapsed": false,
    "jupyter": {
     "outputs_hidden": false
    }
   },
   "outputs": [
    {
     "data": {
      "text/plain": [
       "3.8448464032356435"
      ]
     },
     "execution_count": 93,
     "metadata": {},
     "output_type": "execute_result"
    }
   ],
   "source": [
    "sum(sum(c.values()) for c in kjb_counts.values()) / sum(sum(c.values()) for c in sicp_counts.values())"
   ]
  },
  {
   "cell_type": "code",
   "execution_count": 94,
   "metadata": {
    "collapsed": false,
    "jupyter": {
     "outputs_hidden": false
    }
   },
   "outputs": [
    {
     "data": {
      "text/plain": [
       "(3.0035465329582975, 2.7443625012037365)"
      ]
     },
     "execution_count": 94,
     "metadata": {},
     "output_type": "execute_result"
    }
   ],
   "source": [
    "sum(lovecraft_starts.values()) / sum(sicp_starts.values()), \\\n",
    "sum(sum(c.values()) for c in lovecraft_counts.values()) / sum(sum(c.values()) for c in sicp_counts.values())"
   ]
  },
  {
   "cell_type": "code",
   "execution_count": 95,
   "metadata": {
    "collapsed": true,
    "jupyter": {
     "outputs_hidden": true
    }
   },
   "outputs": [],
   "source": [
    "def scale_merge(left_starts, left_start_scale, left_counts, left_count_scale, \n",
    "                right_starts, right_start_scale, right_counts, right_count_scale):\n",
    "    starts = collections.Counter()\n",
    "    counts = collections.defaultdict(collections.Counter)\n",
    "    \n",
    "    for k, n in left_starts.items():\n",
    "        starts[k] = n * left_start_scale\n",
    "    for k, n in right_starts.items():\n",
    "        starts[k] += n * right_start_scale\n",
    "    \n",
    "    for k in left_counts:\n",
    "        for j in left_counts[k]:\n",
    "            counts[k][j] = left_counts[k][j] * left_count_scale\n",
    "            \n",
    "    for k in right_counts:\n",
    "        for j in right_counts[k]:\n",
    "            counts[k][j] = right_counts[k][j] * right_count_scale\n",
    "\n",
    "    return starts, counts"
   ]
  },
  {
   "cell_type": "code",
   "execution_count": 96,
   "metadata": {
    "collapsed": true,
    "jupyter": {
     "outputs_hidden": true
    }
   },
   "outputs": [],
   "source": [
    "sk_starts, sk_counts = scale_merge(sicp_starts, 3, sicp_counts, 4, kjb_starts, 1, kjb_counts, 1)"
   ]
  },
  {
   "cell_type": "code",
   "execution_count": 97,
   "metadata": {
    "collapsed": false,
    "jupyter": {
     "outputs_hidden": false
    }
   },
   "outputs": [
    {
     "data": {
      "text/html": [
       "<p>The voltage response v of the circuit ( summarized by v C, the Lisp evaluator would be to process the query ( and ( supervisor ? x ? middle- manager in the wheel rule of section 4.4.</p><p>3: 11 Therefore thy gates shall be burned therein.</p><p>36: 3 And say to the forest of the south shall be strong, and eat bread.</p><p>The servants said unto him, My LORD, if thou go with us; and he gave him, and saith unto them, ready to depart on the morrow, which was set over the affairs of this life, and out of the hand that wrote.</p><p>5: 6 And the sword shall abide on his cities, and with an extreme burning, and the vintage shall reach unto Azal: yea, though many false witnesses came, yet found they none.</p><p>He adds all the weekly meetings of the firm to the Microshaft data base by expressions of the query system repeatedly reads input expressions.</p><p>Specifically: The evaluator enables us to increase the modularity of our systems by encapsulating, or hiding,'' parts of the earth, that the LORD cast out before the LORD, as the LORD commanded to give unto her the cup of the Lord Jesus Christ, was in number three hundred thousand choice men, able to deliver you from his iniquities.</p><p>Cy agrees that Ben is right about the behavior of a quantity x as a function of n, to be applied in the same way as in the night visions, and your goodliest young men, and they slew all the males from a month old and upward, from the east side unto the west side, a portion for Asher.</p><p>13: 1 And the LORD said, Bring the portion which I gave thee, of the children of Israel before their idols, and all that is in use, existing programs that define procedures with these names bound as local variables.</p><p>For example, the complex number z = x + iy ( where i 2 =- 1) can be expressed as sequence operations.</p>"
      ],
      "text/plain": [
       "<IPython.core.display.HTML object>"
      ]
     },
     "metadata": {},
     "output_type": "display_data"
    }
   ],
   "source": [
    "display(HTML(cat('<p>' + sentence_join(markov_item(sk_starts, sk_counts, 500)) + '</p>' for _ in range(10))))"
   ]
  },
  {
   "cell_type": "code",
   "execution_count": 98,
   "metadata": {
    "collapsed": true,
    "jupyter": {
     "outputs_hidden": true
    }
   },
   "outputs": [],
   "source": [
    "sl_starts, sl_counts = scale_merge(sicp_starts, 3, sicp_counts, 2, lovecraft_starts, 1, lovecraft_counts, 1)"
   ]
  },
  {
   "cell_type": "code",
   "execution_count": 99,
   "metadata": {
    "collapsed": false,
    "jupyter": {
     "outputs_hidden": false
    }
   },
   "outputs": [
    {
     "data": {
      "text/html": [
       "<p>Akeley had been a nightmare of buzzing voices, and a partial relief from the second signal ordering a general plan was to see him.</p><p>From the handwriting ? Do you wonder how many farmhouses burnt to ashes.</p><p>1 that the interpreter runs, it follows a process that must be made to a system in which complex numbers are naturally represented as ordered pairs.</p><p>Then the GCD is the other argument for * ( assign proc ( op ( opcompiled- procedure- entry) ( let (( segments ( segments agenda) ( cdr z)) ( append (( save, first- reg) ( modifies- register ? modularity, [ 2 ] unify- match query- pattern frame) ( let (( t1 -> t2 ( apply- generic op ( t1 -> t2 ( get- register- contents < machine- model > < register- name > ( op vector- set!) ( reg new- cdrs) ( reg env));; begin actual procedure body ( save continue) ( goto ( reg val)) Now we can try our rational- number operations in terms of abstract selectors and constructors for this notation such that our derivative program still works ? 2.3.</p><p>And yet it was, or that those horrible cylinders and machines- and the desolate salt marshes, desolate and unpeopled, chaos was complete long before I die I should be as it shines on certain others- even a perfect solution, because of a long and familiar doom.</p><p>He defines the following two rules: For any list y, the empty list, then the smaller number in the sequence.</p><p>Of all its curious influence call up the sixty- three at the cryptic parchment; but upon examining the bank as if to accentuate by their fellow- men.</p><p>When he read this, but kept it in the hideous culmination of events that depopulated the whole scene of such data as my torch could not doubt the power of its unfamiliar temporary form, was of little quaint fishing towns that climbed from the Rowley road drew so close to the fourth floor, and likewise any metal case- resulted in a vast Italian quarter, and a feeling that some of our camel drivers older than Memphis and mankind.</p><p>\" Ye see all too close to the sight.</p><p>In the roseal dawn the burghers of Milwaukee rose to panic.</p>"
      ],
      "text/plain": [
       "<IPython.core.display.HTML object>"
      ]
     },
     "metadata": {},
     "output_type": "display_data"
    }
   ],
   "source": [
    "display(HTML(cat('<p>' + sentence_join(markov_item(sl_starts, sl_counts, 500)) + '</p>' for _ in range(10))))"
   ]
  },
  {
   "cell_type": "code",
   "execution_count": 100,
   "metadata": {
    "collapsed": true,
    "jupyter": {
     "outputs_hidden": true
    }
   },
   "outputs": [],
   "source": [
    "lk_starts, lk_counts = scale_merge(lovecraft_starts, 1, lovecraft_counts, 1, kjb_starts, 1, kjb_counts, 1)"
   ]
  },
  {
   "cell_type": "code",
   "execution_count": 101,
   "metadata": {
    "collapsed": false,
    "jupyter": {
     "outputs_hidden": false
    }
   },
   "outputs": [
    {
     "data": {
      "text/html": [
       "<p>I say harass, because they have when they tore open the massive pre- Revolutionary homes with their nails, so I think almost hope that no man has yet dared not seem to have the ether- resisting wings characteristic of him, and many things.</p><p>2: 31 And he said unto him, Caesar's.</p><p>33: 9 Nevertheless the priests of the high places of Baal, which are called might receive the fruits of your ground; neither shall thy tears run down like a river, and every tree therein: for then should ye go after vain things, which thou hast redeemed.</p><p>He could scarcely decipher what they portrayed, and almost ghastly results, since it could be done.</p><p>27: 12 These shall stand upon the mount of Olives, then sent Jesus two disciples, 21: 6 And Ezra blessed the LORD God, even the porch of the house of the LORD was with Jehoshaphat, because he had heard therefore that he was Rebekah's son: and I will remove far off from my presence: 23: 11 And they found written in the law.</p><p>Was he just come up.</p><p>Lanterns that shudder and death are penned.</p><p>But this was a cross of new developments in those fields where the west window, and with haste To get this impetus, though to my flagging quest; for thousands and tens of thousands of light which would warn the waiting horse gave a thrill that a small man probably having a kind of a chaotic pronunciation.</p><p>Beneath him dozens of queer things I had not traversed before; and though progress was very close indeed.</p><p>52: 23 And they were exceeding many: neither was the word of the LORD came again unto Jerusalem and Judah, Hanani, Eliathah, Giddalti, and Romamtiezer, Joshbekashah, Mallothi, Hothir, and Mahazioth: 25: 27 Over against the border were at the north bay of the salt sea: this shall not be ashamed of Chemosh, as the manner of all the tribes of the children of Ammon said to Hanun, Thinkest thou that David doth honour thy father, that he may die: because she hath not sinned.</p>"
      ],
      "text/plain": [
       "<IPython.core.display.HTML object>"
      ]
     },
     "metadata": {},
     "output_type": "display_data"
    }
   ],
   "source": [
    "display(HTML(cat('<p>' + sentence_join(markov_item(lk_starts, lk_counts, 500)) + '</p>' for _ in range(10))))"
   ]
  },
  {
   "cell_type": "code",
   "execution_count": null,
   "metadata": {
    "collapsed": true,
    "jupyter": {
     "outputs_hidden": true
    }
   },
   "outputs": [],
   "source": []
  }
 ],
 "metadata": {
  "kernelspec": {
   "display_name": "Python 3 (ipykernel)",
   "language": "python",
   "name": "python3"
  },
  "language_info": {
   "codemirror_mode": {
    "name": "ipython",
    "version": 3
   },
   "file_extension": ".py",
   "mimetype": "text/x-python",
   "name": "python",
   "nbconvert_exporter": "python",
   "pygments_lexer": "ipython3",
   "version": "3.10.13"
  }
 },
 "nbformat": 4,
 "nbformat_minor": 4
}
