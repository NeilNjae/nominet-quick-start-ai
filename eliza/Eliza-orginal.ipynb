{
 "cells": [
  {
   "cell_type": "markdown",
   "id": "4968f024",
   "metadata": {},
   "source": [
    "# Eliza"
   ]
  },
  {
   "cell_type": "markdown",
   "id": "fa9cad0c",
   "metadata": {},
   "source": [
    "This is a very simple implementation of the Eliza chatbot. It uses a set of rules to generate responses based on what you type. It's not a very sophisticated chatbot, but it's illuminating to look at how it works.\n",
    "\n",
    "* Weizenbaum, J. (1966) ‘ELIZA—a computer program for the study of natural language communication between man and machine’, *Communications of the ACM*, 9(1), pp.&nbsp;36–45. doi:10.1145/365153.365168."
   ]
  },
  {
   "cell_type": "code",
   "execution_count": null,
   "id": "2564bad9",
   "metadata": {},
   "outputs": [],
   "source": [
    "from eliza import *"
   ]
  },
  {
   "cell_type": "markdown",
   "id": "b4f883fa",
   "metadata": {},
   "source": [
    "The rules are in the `rules.yaml` file, and the `read_rules` function will load them from the file."
   ]
  },
  {
   "cell_type": "code",
   "execution_count": null,
   "id": "4e1bff60",
   "metadata": {},
   "outputs": [],
   "source": [
    "all_rules = read_rules('rules.yaml')"
   ]
  },
  {
   "cell_type": "markdown",
   "id": "43403c01",
   "metadata": {},
   "source": [
    "Now we have the rules, you can talk to Eliza. Try talking about your mother or father, or about your dreams.\n",
    "\n",
    "When you've finished, type `quit` to stop Eliza."
   ]
  },
  {
   "cell_type": "code",
   "execution_count": null,
   "id": "a359a597",
   "metadata": {
    "tags": [
     "style-solution"
    ]
   },
   "outputs": [],
   "source": [
    "eliza_loop(all_rules)"
   ]
  },
  {
   "cell_type": "code",
   "execution_count": null,
   "id": "7d8989b9",
   "metadata": {},
   "outputs": [],
   "source": [
    "all_rules"
   ]
  },
  {
   "cell_type": "code",
   "execution_count": null,
   "id": "ac5ae857",
   "metadata": {},
   "outputs": [],
   "source": [
    "match('this is some text'.split(), '?X ?Y'.split())"
   ]
  },
  {
   "cell_type": "code",
   "execution_count": null,
   "id": "11cb7846",
   "metadata": {},
   "outputs": [],
   "source": [
    "splits('this is some text'.split())"
   ]
  },
  {
   "cell_type": "markdown",
   "id": "275356ff",
   "metadata": {},
   "source": [
    "It's now time for you to write some of your own rules. Back in the main Jupyter interface, find the `rules.yaml` file in the list of notebooks and other files. Select the checkbox next to the `rules.yaml` file then press the `Duplicate` button at the top of the window. Then click on the `rules-Copy1.yaml` file you just created to open it for editing."
   ]
  },
  {
   "cell_type": "markdown",
   "id": "fdb92835",
   "metadata": {},
   "source": [
    "The rules look like this:\n",
    "```\n",
    "- pattern: ?X i am glad ?Y\n",
    "  responses:\n",
    "  - how have i helped you to be ?Y\n",
    "  - what makes you happy just now\n",
    "  - can you explain why you are suddenly ?Y\n",
    "```\n",
    "The `pattern` is what matches against what you type in. The parts `?X` and `?Y` are Eliza's variables, where Eliza captures the interesting parts of what you say.\n",
    "\n",
    "For instance, the phrase \"hi i am glad to meet you\" will match the pattern \"?X i am glad ?Y\" with the bindings of `?X` matching \"hi\" and `?Y` matching \"to meet you\", like this:"
   ]
  },
  {
   "cell_type": "code",
   "execution_count": null,
   "id": "02886a9c",
   "metadata": {},
   "outputs": [],
   "source": [
    "all_bindings = match(\"hi i am glad to meet you\".split(), \"?X i am glad ?Y\".split())\n",
    "bindings = all_bindings[0]\n",
    "bindings"
   ]
  },
  {
   "cell_type": "markdown",
   "id": "60bb12a1",
   "metadata": {},
   "source": [
    "(Note that Eliza splits text into lists of words, rather than keeping it as a string, and that `match` returns a list of possible matches.)\n",
    "\n",
    "Eliza uses those matches to fill out the response:"
   ]
  },
  {
   "cell_type": "code",
   "execution_count": null,
   "id": "78bae4a8",
   "metadata": {},
   "outputs": [],
   "source": [
    "fill(\"how have i helped you to be ?Y\".split(), bindings)"
   ]
  },
  {
   "cell_type": "markdown",
   "id": "764f7d4e",
   "metadata": {},
   "source": [
    "As you can see, Eliza has used what was captured in the `?Y` variable to fill out the response.\n",
    "\n",
    "Where a rule has several responses, Eliza will pick one of them.\n",
    "\n",
    "It could be that several rules match what you type. In that case, Eliza will always use the first rule that matches."
   ]
  },
  {
   "cell_type": "markdown",
   "id": "33b3f576",
   "metadata": {
    "tags": [
     "style-activity"
    ]
   },
   "source": [
    "## Exercise"
   ]
  },
  {
   "cell_type": "markdown",
   "id": "6c624fc4",
   "metadata": {
    "tags": [
     "style-activity"
    ]
   },
   "source": [
    "Now you've seen how Eliza works, it's time to write your own rules. Create a new rule in the file `rules-Copy.yaml` that has the pattern \"?X bananas ?Y\" and a single response \"i think bananas ?Y\". Make sure the new rules is the first or second one in the file. Save the file when you're done.\n",
    "\n",
    "(Note that the rules, formatted as YAML statements, are as sensitive to whitespace and layout as Python text. Be sure to use exactly the same formatting as the existing rules.)"
   ]
  },
  {
   "cell_type": "markdown",
   "id": "cd15bdbb",
   "metadata": {
    "tags": [
     "style-student"
    ]
   },
   "source": [
    "### Solution"
   ]
  },
  {
   "cell_type": "markdown",
   "id": "748629c5",
   "metadata": {
    "tags": [
     "style-student"
    ]
   },
   "source": [
    "The rule should look like this:\n",
    "```\n",
    "- pattern: ?X bananas ?Y\n",
    "  responses:\n",
    "  - i think bananas ?Y\n",
    "```"
   ]
  },
  {
   "cell_type": "markdown",
   "id": "c4fea686",
   "metadata": {
    "tags": [
     "style-student"
    ]
   },
   "source": [
    "## End of solution"
   ]
  },
  {
   "cell_type": "markdown",
   "id": "08b2403b",
   "metadata": {},
   "source": [
    "Now see if your new rule works. Tell Eliza that \"bananas are evil\" and see what the response is. (Remember to type \"quit\" to finish.)"
   ]
  },
  {
   "cell_type": "code",
   "execution_count": null,
   "id": "44c42689",
   "metadata": {
    "tags": [
     "style-solution"
    ]
   },
   "outputs": [],
   "source": [
    "eliza_loop(all_rules)"
   ]
  },
  {
   "cell_type": "markdown",
   "id": "6da60234",
   "metadata": {},
   "source": [
    "Now load your new set of rules into Eliza and again tell Eliza that \"bananas are evil\". You should see a different response, based on your new rules."
   ]
  },
  {
   "cell_type": "code",
   "execution_count": null,
   "id": "b640f9fd",
   "metadata": {},
   "outputs": [],
   "source": [
    "all_rules = read_rules('rules-Copy1.yaml')"
   ]
  },
  {
   "cell_type": "code",
   "execution_count": null,
   "id": "45c2b77f",
   "metadata": {
    "tags": [
     "style-solution"
    ]
   },
   "outputs": [],
   "source": [
    "eliza_loop(all_rules)"
   ]
  },
  {
   "cell_type": "markdown",
   "id": "a3234a48",
   "metadata": {
    "tags": [
     "style-activity"
    ]
   },
   "source": [
    "## Exercise"
   ]
  },
  {
   "cell_type": "markdown",
   "id": "c63278c2",
   "metadata": {
    "tags": [
     "style-activity"
    ]
   },
   "source": [
    "Now you've seen how the rules are used by Eliza, try writing a few of your own. The rules work best if you focus them on words or phrases like \"dream\" or \"remember\". Try writing a couple of rules about what a person may imagine. Put them in the middle of the file, near the existing rules for \"dreamed\".\n",
    "\n",
    "Spend no more than **20 minutes** on this.\n",
    "\n",
    "Write the new rules, save the file, and reload it in this noteobok. Check to see that your new rules are used.\n",
    "\n",
    "Post your new rules in your tutor group and try a few of the rules suggested by other students. \n",
    "\n",
    "Hopefully, what you learn from this process is that writing rules can be a laborious and unforgiving process, and one that's difficult to get right."
   ]
  },
  {
   "cell_type": "code",
   "execution_count": null,
   "id": "342569e1",
   "metadata": {},
   "outputs": [],
   "source": []
  }
 ],
 "metadata": {
  "jupytext": {
   "formats": "ipynb,md"
  },
  "kernelspec": {
   "display_name": "Python 3 (ipykernel)",
   "language": "python",
   "name": "python3"
  },
  "language_info": {
   "codemirror_mode": {
    "name": "ipython",
    "version": 3
   },
   "file_extension": ".py",
   "mimetype": "text/x-python",
   "name": "python",
   "nbconvert_exporter": "python",
   "pygments_lexer": "ipython3",
   "version": "3.10.13"
  }
 },
 "nbformat": 4,
 "nbformat_minor": 5
}
